{
 "cells": [
  {
   "cell_type": "markdown",
   "metadata": {
    "colab_type": "text",
    "id": "MockJ-NBFvgv"
   },
   "source": [
    "# Introduction: Automated Feature Engineering\n",
    "\n",
    "In this notebook, we will look at an exciting development in data science: automated feature engineering. A machine learning model can only learn from the data we give it, and making sure that data is relevant to the task is one of the most crucial steps in the machine learning pipeline. The importance of creating useful features from existing data has been highlighted by numerous leaders in the field, including Andrew Ng (\"applied machine learning is basically feature engineering\") and in the excellent paper \"A Few Useful Things to Know about Machine Learning\". However, manual feature engineering is a tedious task and is limited by both human imagination - there are only so many features we can think to create - and by time - creating new features is time-intensive. Ideally, there would be an objective method to create an array of diverse new features that we can then use for a machine learning task. \n",
    "\n",
    "In this notebook, we will walk through an implementation of using Feature Tools, an open-source Python library for automatically creating features with relational data (where the data is in structured tables). Although there are now many efforts working to enable automated model selection and hyperparameter tuning, there has been a lack of work on the feature engineering aspect of the pipeline. This library seeks to close that gap and the general methodology has been proven effective in both machine learning competitions and business use cases. \n",
    "\n",
    "\n",
    "## Dataset\n",
    "\n",
    "We will use an example dataset consisting of three tables:\n",
    "\n",
    "* `clients`: information about clients at a credit union\n",
    "* `loans`: previous loans taken out by the clients\n",
    "* `payments`: payments made/missed on the previous loans\n",
    "\n",
    "The general problem of feature engineering is taking disparate data, often distributed across multiple tables, and combining it into a single table that can be used for training a machine learning model. If we were doing this manually, we could use `pandas` functions to group the data by client and then calculate summary statistics. Feature tools can do this exact same process, but will create far more features than we would have considered.\n",
    "\n",
    "First, let's load in the data and look at how we might create new features by hand to contrast with feature tools."
   ]
  },
  {
   "cell_type": "code",
   "execution_count": 1,
   "metadata": {
    "colab": {
     "autoexec": {
      "startup": false,
      "wait_interval": 0
     }
    },
    "colab_type": "code",
    "id": "4zDxrOS8F_t0"
   },
   "outputs": [],
   "source": [
    "# Run this if feature tools is not already installed\n",
    "# !pip install featuretools"
   ]
  },
  {
   "cell_type": "code",
   "execution_count": 2,
   "metadata": {
    "colab": {
     "autoexec": {
      "startup": false,
      "wait_interval": 0
     }
    },
    "colab_type": "code",
    "id": "Og7QpzFkFrf9"
   },
   "outputs": [],
   "source": [
    "# pandas and numpy for data manipulation\n",
    "import pandas as pd\n",
    "import numpy as np\n",
    "\n",
    "# featuretools for automated feature engineering\n",
    "import featuretools as ft\n",
    "\n",
    "# ignore warnings from pandas\n",
    "import warnings\n",
    "warnings.filterwarnings('ignore')"
   ]
  },
  {
   "cell_type": "code",
   "execution_count": 3,
   "metadata": {
    "colab": {
     "autoexec": {
      "startup": false,
      "wait_interval": 0
     }
    },
    "colab_type": "code",
    "id": "BGkrloKKGbD2"
   },
   "outputs": [],
   "source": [
    "# Read in the data\n",
    "clients = pd.read_csv('data/clients.csv', parse_dates = ['joined'])\n",
    "loans = pd.read_csv('data/loans.csv', parse_dates = ['loan_start', 'loan_end'])\n",
    "payments = pd.read_csv('data/payments.csv', parse_dates = ['payment_date'])"
   ]
  },
  {
   "cell_type": "code",
   "execution_count": 4,
   "metadata": {
    "colab": {
     "autoexec": {
      "startup": false,
      "wait_interval": 0
     }
    },
    "colab_type": "code",
    "id": "08ST5lOrrTxg"
   },
   "outputs": [
    {
     "data": {
      "text/html": [
       "<div>\n",
       "<style scoped>\n",
       "    .dataframe tbody tr th:only-of-type {\n",
       "        vertical-align: middle;\n",
       "    }\n",
       "\n",
       "    .dataframe tbody tr th {\n",
       "        vertical-align: top;\n",
       "    }\n",
       "\n",
       "    .dataframe thead th {\n",
       "        text-align: right;\n",
       "    }\n",
       "</style>\n",
       "<table border=\"1\" class=\"dataframe\">\n",
       "  <thead>\n",
       "    <tr style=\"text-align: right;\">\n",
       "      <th></th>\n",
       "      <th>client_id</th>\n",
       "      <th>joined</th>\n",
       "      <th>income</th>\n",
       "      <th>credit_score</th>\n",
       "    </tr>\n",
       "  </thead>\n",
       "  <tbody>\n",
       "    <tr>\n",
       "      <th>0</th>\n",
       "      <td>46109</td>\n",
       "      <td>2002-04-16</td>\n",
       "      <td>172677</td>\n",
       "      <td>527</td>\n",
       "    </tr>\n",
       "    <tr>\n",
       "      <th>1</th>\n",
       "      <td>49545</td>\n",
       "      <td>2007-11-14</td>\n",
       "      <td>104564</td>\n",
       "      <td>770</td>\n",
       "    </tr>\n",
       "    <tr>\n",
       "      <th>2</th>\n",
       "      <td>41480</td>\n",
       "      <td>2013-03-11</td>\n",
       "      <td>122607</td>\n",
       "      <td>585</td>\n",
       "    </tr>\n",
       "    <tr>\n",
       "      <th>3</th>\n",
       "      <td>46180</td>\n",
       "      <td>2001-11-06</td>\n",
       "      <td>43851</td>\n",
       "      <td>562</td>\n",
       "    </tr>\n",
       "    <tr>\n",
       "      <th>4</th>\n",
       "      <td>25707</td>\n",
       "      <td>2006-10-06</td>\n",
       "      <td>211422</td>\n",
       "      <td>621</td>\n",
       "    </tr>\n",
       "  </tbody>\n",
       "</table>\n",
       "</div>"
      ],
      "text/plain": [
       "   client_id     joined  income  credit_score\n",
       "0      46109 2002-04-16  172677           527\n",
       "1      49545 2007-11-14  104564           770\n",
       "2      41480 2013-03-11  122607           585\n",
       "3      46180 2001-11-06   43851           562\n",
       "4      25707 2006-10-06  211422           621"
      ]
     },
     "execution_count": 4,
     "metadata": {},
     "output_type": "execute_result"
    }
   ],
   "source": [
    "clients.head()"
   ]
  },
  {
   "cell_type": "code",
   "execution_count": 5,
   "metadata": {
    "colab": {
     "autoexec": {
      "startup": false,
      "wait_interval": 0
     }
    },
    "colab_type": "code",
    "id": "S6TXsCZW3Rau"
   },
   "outputs": [
    {
     "data": {
      "text/html": [
       "<div>\n",
       "<style scoped>\n",
       "    .dataframe tbody tr th:only-of-type {\n",
       "        vertical-align: middle;\n",
       "    }\n",
       "\n",
       "    .dataframe tbody tr th {\n",
       "        vertical-align: top;\n",
       "    }\n",
       "\n",
       "    .dataframe thead th {\n",
       "        text-align: right;\n",
       "    }\n",
       "</style>\n",
       "<table border=\"1\" class=\"dataframe\">\n",
       "  <thead>\n",
       "    <tr style=\"text-align: right;\">\n",
       "      <th></th>\n",
       "      <th>client_id</th>\n",
       "      <th>loan_type</th>\n",
       "      <th>loan_amount</th>\n",
       "      <th>repaid</th>\n",
       "      <th>loan_id</th>\n",
       "      <th>loan_start</th>\n",
       "      <th>loan_end</th>\n",
       "      <th>rate</th>\n",
       "    </tr>\n",
       "  </thead>\n",
       "  <tbody>\n",
       "    <tr>\n",
       "      <th>131</th>\n",
       "      <td>32726</td>\n",
       "      <td>credit</td>\n",
       "      <td>14522</td>\n",
       "      <td>0</td>\n",
       "      <td>10202</td>\n",
       "      <td>2005-06-23</td>\n",
       "      <td>2007-07-01</td>\n",
       "      <td>3.74</td>\n",
       "    </tr>\n",
       "    <tr>\n",
       "      <th>229</th>\n",
       "      <td>32961</td>\n",
       "      <td>home</td>\n",
       "      <td>9237</td>\n",
       "      <td>0</td>\n",
       "      <td>10850</td>\n",
       "      <td>2011-11-25</td>\n",
       "      <td>2014-07-27</td>\n",
       "      <td>0.01</td>\n",
       "    </tr>\n",
       "    <tr>\n",
       "      <th>402</th>\n",
       "      <td>41472</td>\n",
       "      <td>cash</td>\n",
       "      <td>5758</td>\n",
       "      <td>0</td>\n",
       "      <td>11711</td>\n",
       "      <td>2003-02-04</td>\n",
       "      <td>2005-09-27</td>\n",
       "      <td>1.88</td>\n",
       "    </tr>\n",
       "    <tr>\n",
       "      <th>10</th>\n",
       "      <td>46109</td>\n",
       "      <td>other</td>\n",
       "      <td>1618</td>\n",
       "      <td>0</td>\n",
       "      <td>11661</td>\n",
       "      <td>2006-08-28</td>\n",
       "      <td>2009-04-23</td>\n",
       "      <td>6.49</td>\n",
       "    </tr>\n",
       "    <tr>\n",
       "      <th>416</th>\n",
       "      <td>49624</td>\n",
       "      <td>cash</td>\n",
       "      <td>13221</td>\n",
       "      <td>1</td>\n",
       "      <td>11581</td>\n",
       "      <td>2003-05-07</td>\n",
       "      <td>2006-01-06</td>\n",
       "      <td>3.94</td>\n",
       "    </tr>\n",
       "    <tr>\n",
       "      <th>339</th>\n",
       "      <td>39384</td>\n",
       "      <td>cash</td>\n",
       "      <td>8646</td>\n",
       "      <td>1</td>\n",
       "      <td>10538</td>\n",
       "      <td>2014-03-10</td>\n",
       "      <td>2016-11-27</td>\n",
       "      <td>1.84</td>\n",
       "    </tr>\n",
       "    <tr>\n",
       "      <th>134</th>\n",
       "      <td>32726</td>\n",
       "      <td>other</td>\n",
       "      <td>1710</td>\n",
       "      <td>1</td>\n",
       "      <td>10522</td>\n",
       "      <td>2000-06-12</td>\n",
       "      <td>2002-05-08</td>\n",
       "      <td>0.31</td>\n",
       "    </tr>\n",
       "    <tr>\n",
       "      <th>167</th>\n",
       "      <td>35214</td>\n",
       "      <td>home</td>\n",
       "      <td>667</td>\n",
       "      <td>0</td>\n",
       "      <td>11731</td>\n",
       "      <td>2007-02-01</td>\n",
       "      <td>2009-04-06</td>\n",
       "      <td>5.11</td>\n",
       "    </tr>\n",
       "    <tr>\n",
       "      <th>409</th>\n",
       "      <td>41472</td>\n",
       "      <td>other</td>\n",
       "      <td>11773</td>\n",
       "      <td>0</td>\n",
       "      <td>10364</td>\n",
       "      <td>2001-05-09</td>\n",
       "      <td>2003-12-30</td>\n",
       "      <td>6.19</td>\n",
       "    </tr>\n",
       "    <tr>\n",
       "      <th>341</th>\n",
       "      <td>39384</td>\n",
       "      <td>home</td>\n",
       "      <td>7241</td>\n",
       "      <td>1</td>\n",
       "      <td>11972</td>\n",
       "      <td>2009-03-28</td>\n",
       "      <td>2011-03-09</td>\n",
       "      <td>5.83</td>\n",
       "    </tr>\n",
       "  </tbody>\n",
       "</table>\n",
       "</div>"
      ],
      "text/plain": [
       "     client_id loan_type  loan_amount  repaid  loan_id loan_start   loan_end  \\\n",
       "131      32726    credit        14522       0    10202 2005-06-23 2007-07-01   \n",
       "229      32961      home         9237       0    10850 2011-11-25 2014-07-27   \n",
       "402      41472      cash         5758       0    11711 2003-02-04 2005-09-27   \n",
       "10       46109     other         1618       0    11661 2006-08-28 2009-04-23   \n",
       "416      49624      cash        13221       1    11581 2003-05-07 2006-01-06   \n",
       "339      39384      cash         8646       1    10538 2014-03-10 2016-11-27   \n",
       "134      32726     other         1710       1    10522 2000-06-12 2002-05-08   \n",
       "167      35214      home          667       0    11731 2007-02-01 2009-04-06   \n",
       "409      41472     other        11773       0    10364 2001-05-09 2003-12-30   \n",
       "341      39384      home         7241       1    11972 2009-03-28 2011-03-09   \n",
       "\n",
       "     rate  \n",
       "131  3.74  \n",
       "229  0.01  \n",
       "402  1.88  \n",
       "10   6.49  \n",
       "416  3.94  \n",
       "339  1.84  \n",
       "134  0.31  \n",
       "167  5.11  \n",
       "409  6.19  \n",
       "341  5.83  "
      ]
     },
     "execution_count": 5,
     "metadata": {},
     "output_type": "execute_result"
    }
   ],
   "source": [
    "loans.sample(10)"
   ]
  },
  {
   "cell_type": "code",
   "execution_count": 6,
   "metadata": {
    "colab": {
     "autoexec": {
      "startup": false,
      "wait_interval": 0
     }
    },
    "colab_type": "code",
    "id": "uIOMlPAD3TfZ"
   },
   "outputs": [
    {
     "data": {
      "text/html": [
       "<div>\n",
       "<style scoped>\n",
       "    .dataframe tbody tr th:only-of-type {\n",
       "        vertical-align: middle;\n",
       "    }\n",
       "\n",
       "    .dataframe tbody tr th {\n",
       "        vertical-align: top;\n",
       "    }\n",
       "\n",
       "    .dataframe thead th {\n",
       "        text-align: right;\n",
       "    }\n",
       "</style>\n",
       "<table border=\"1\" class=\"dataframe\">\n",
       "  <thead>\n",
       "    <tr style=\"text-align: right;\">\n",
       "      <th></th>\n",
       "      <th>loan_id</th>\n",
       "      <th>payment_amount</th>\n",
       "      <th>payment_date</th>\n",
       "      <th>missed</th>\n",
       "    </tr>\n",
       "  </thead>\n",
       "  <tbody>\n",
       "    <tr>\n",
       "      <th>395</th>\n",
       "      <td>11430</td>\n",
       "      <td>136</td>\n",
       "      <td>2009-11-23</td>\n",
       "      <td>1</td>\n",
       "    </tr>\n",
       "    <tr>\n",
       "      <th>3216</th>\n",
       "      <td>11238</td>\n",
       "      <td>1682</td>\n",
       "      <td>2001-06-06</td>\n",
       "      <td>0</td>\n",
       "    </tr>\n",
       "    <tr>\n",
       "      <th>3413</th>\n",
       "      <td>10330</td>\n",
       "      <td>1992</td>\n",
       "      <td>2002-04-27</td>\n",
       "      <td>1</td>\n",
       "    </tr>\n",
       "    <tr>\n",
       "      <th>159</th>\n",
       "      <td>11030</td>\n",
       "      <td>2314</td>\n",
       "      <td>2001-10-14</td>\n",
       "      <td>1</td>\n",
       "    </tr>\n",
       "    <tr>\n",
       "      <th>574</th>\n",
       "      <td>10205</td>\n",
       "      <td>938</td>\n",
       "      <td>2010-04-30</td>\n",
       "      <td>1</td>\n",
       "    </tr>\n",
       "    <tr>\n",
       "      <th>204</th>\n",
       "      <td>11043</td>\n",
       "      <td>2505</td>\n",
       "      <td>2003-02-18</td>\n",
       "      <td>1</td>\n",
       "    </tr>\n",
       "    <tr>\n",
       "      <th>1723</th>\n",
       "      <td>10239</td>\n",
       "      <td>1435</td>\n",
       "      <td>2014-01-20</td>\n",
       "      <td>0</td>\n",
       "    </tr>\n",
       "    <tr>\n",
       "      <th>3307</th>\n",
       "      <td>10826</td>\n",
       "      <td>2538</td>\n",
       "      <td>2005-03-20</td>\n",
       "      <td>0</td>\n",
       "    </tr>\n",
       "    <tr>\n",
       "      <th>2553</th>\n",
       "      <td>11100</td>\n",
       "      <td>473</td>\n",
       "      <td>2014-10-07</td>\n",
       "      <td>0</td>\n",
       "    </tr>\n",
       "    <tr>\n",
       "      <th>1061</th>\n",
       "      <td>11287</td>\n",
       "      <td>1556</td>\n",
       "      <td>2007-05-26</td>\n",
       "      <td>1</td>\n",
       "    </tr>\n",
       "  </tbody>\n",
       "</table>\n",
       "</div>"
      ],
      "text/plain": [
       "      loan_id  payment_amount payment_date  missed\n",
       "395     11430             136   2009-11-23       1\n",
       "3216    11238            1682   2001-06-06       0\n",
       "3413    10330            1992   2002-04-27       1\n",
       "159     11030            2314   2001-10-14       1\n",
       "574     10205             938   2010-04-30       1\n",
       "204     11043            2505   2003-02-18       1\n",
       "1723    10239            1435   2014-01-20       0\n",
       "3307    10826            2538   2005-03-20       0\n",
       "2553    11100             473   2014-10-07       0\n",
       "1061    11287            1556   2007-05-26       1"
      ]
     },
     "execution_count": 6,
     "metadata": {},
     "output_type": "execute_result"
    }
   ],
   "source": [
    "payments.sample(10)"
   ]
  },
  {
   "cell_type": "markdown",
   "metadata": {
    "colab_type": "text",
    "id": "AvmwEpIbrQIW"
   },
   "source": [
    "### Manual Feature Engineering Examples\n",
    "\n",
    "The first features we might make by hand are relatively simple: we can take the month of the `joined` column and the natural log of the `income` column. Later, we will come to see these are known in Feature Tools as transformation feature primitives because they act on all values in a column. "
   ]
  },
  {
   "cell_type": "code",
   "execution_count": 7,
   "metadata": {
    "colab": {
     "autoexec": {
      "startup": false,
      "wait_interval": 0
     }
    },
    "colab_type": "code",
    "id": "PRTEs9XSUz94"
   },
   "outputs": [
    {
     "data": {
      "text/html": [
       "<div>\n",
       "<style scoped>\n",
       "    .dataframe tbody tr th:only-of-type {\n",
       "        vertical-align: middle;\n",
       "    }\n",
       "\n",
       "    .dataframe tbody tr th {\n",
       "        vertical-align: top;\n",
       "    }\n",
       "\n",
       "    .dataframe thead th {\n",
       "        text-align: right;\n",
       "    }\n",
       "</style>\n",
       "<table border=\"1\" class=\"dataframe\">\n",
       "  <thead>\n",
       "    <tr style=\"text-align: right;\">\n",
       "      <th></th>\n",
       "      <th>client_id</th>\n",
       "      <th>joined</th>\n",
       "      <th>income</th>\n",
       "      <th>credit_score</th>\n",
       "      <th>join_month</th>\n",
       "      <th>log_income</th>\n",
       "    </tr>\n",
       "  </thead>\n",
       "  <tbody>\n",
       "    <tr>\n",
       "      <th>0</th>\n",
       "      <td>46109</td>\n",
       "      <td>2002-04-16</td>\n",
       "      <td>172677</td>\n",
       "      <td>527</td>\n",
       "      <td>4</td>\n",
       "      <td>12.059178</td>\n",
       "    </tr>\n",
       "    <tr>\n",
       "      <th>1</th>\n",
       "      <td>49545</td>\n",
       "      <td>2007-11-14</td>\n",
       "      <td>104564</td>\n",
       "      <td>770</td>\n",
       "      <td>11</td>\n",
       "      <td>11.557555</td>\n",
       "    </tr>\n",
       "    <tr>\n",
       "      <th>2</th>\n",
       "      <td>41480</td>\n",
       "      <td>2013-03-11</td>\n",
       "      <td>122607</td>\n",
       "      <td>585</td>\n",
       "      <td>3</td>\n",
       "      <td>11.716739</td>\n",
       "    </tr>\n",
       "    <tr>\n",
       "      <th>3</th>\n",
       "      <td>46180</td>\n",
       "      <td>2001-11-06</td>\n",
       "      <td>43851</td>\n",
       "      <td>562</td>\n",
       "      <td>11</td>\n",
       "      <td>10.688553</td>\n",
       "    </tr>\n",
       "    <tr>\n",
       "      <th>4</th>\n",
       "      <td>25707</td>\n",
       "      <td>2006-10-06</td>\n",
       "      <td>211422</td>\n",
       "      <td>621</td>\n",
       "      <td>10</td>\n",
       "      <td>12.261611</td>\n",
       "    </tr>\n",
       "  </tbody>\n",
       "</table>\n",
       "</div>"
      ],
      "text/plain": [
       "   client_id     joined  income  credit_score  join_month  log_income\n",
       "0      46109 2002-04-16  172677           527           4   12.059178\n",
       "1      49545 2007-11-14  104564           770          11   11.557555\n",
       "2      41480 2013-03-11  122607           585           3   11.716739\n",
       "3      46180 2001-11-06   43851           562          11   10.688553\n",
       "4      25707 2006-10-06  211422           621          10   12.261611"
      ]
     },
     "execution_count": 7,
     "metadata": {},
     "output_type": "execute_result"
    }
   ],
   "source": [
    "# Create a month column\n",
    "clients['join_month'] = clients['joined'].dt.month\n",
    "\n",
    "# Create a log of income column\n",
    "clients['log_income'] = np.log(clients['income'])\n",
    "\n",
    "clients.head()"
   ]
  },
  {
   "cell_type": "markdown",
   "metadata": {
    "colab_type": "text",
    "id": "reiPaTnVs2Yk"
   },
   "source": [
    "To incorporate information about the other tables, we would use the `df.groupby` method, followed by a suitable aggregation function, followed by `df.merge`.  For example, let's calculate the average, minimum, and maximum amount of previous loans for each client. In the terms of feature tools, this would be considered an aggregation feature primitive because we are aggregating a statistic for multiple data points."
   ]
  },
  {
   "cell_type": "code",
   "execution_count": 8,
   "metadata": {
    "colab": {
     "autoexec": {
      "startup": false,
      "wait_interval": 0
     }
    },
    "colab_type": "code",
    "id": "rLOJHXqOs2GD"
   },
   "outputs": [
    {
     "data": {
      "text/html": [
       "<div>\n",
       "<style scoped>\n",
       "    .dataframe tbody tr th:only-of-type {\n",
       "        vertical-align: middle;\n",
       "    }\n",
       "\n",
       "    .dataframe tbody tr th {\n",
       "        vertical-align: top;\n",
       "    }\n",
       "\n",
       "    .dataframe thead th {\n",
       "        text-align: right;\n",
       "    }\n",
       "</style>\n",
       "<table border=\"1\" class=\"dataframe\">\n",
       "  <thead>\n",
       "    <tr style=\"text-align: right;\">\n",
       "      <th></th>\n",
       "      <th>mean_loan_amount</th>\n",
       "      <th>max_loan_amount</th>\n",
       "      <th>min_loan_amount</th>\n",
       "    </tr>\n",
       "    <tr>\n",
       "      <th>client_id</th>\n",
       "      <th></th>\n",
       "      <th></th>\n",
       "      <th></th>\n",
       "    </tr>\n",
       "  </thead>\n",
       "  <tbody>\n",
       "    <tr>\n",
       "      <th>25707</th>\n",
       "      <td>7963.950000</td>\n",
       "      <td>13913</td>\n",
       "      <td>1212</td>\n",
       "    </tr>\n",
       "    <tr>\n",
       "      <th>26326</th>\n",
       "      <td>7270.062500</td>\n",
       "      <td>13464</td>\n",
       "      <td>1164</td>\n",
       "    </tr>\n",
       "    <tr>\n",
       "      <th>26695</th>\n",
       "      <td>7824.722222</td>\n",
       "      <td>14865</td>\n",
       "      <td>2389</td>\n",
       "    </tr>\n",
       "    <tr>\n",
       "      <th>26945</th>\n",
       "      <td>7125.933333</td>\n",
       "      <td>14593</td>\n",
       "      <td>653</td>\n",
       "    </tr>\n",
       "    <tr>\n",
       "      <th>29841</th>\n",
       "      <td>9813.000000</td>\n",
       "      <td>14837</td>\n",
       "      <td>2778</td>\n",
       "    </tr>\n",
       "  </tbody>\n",
       "</table>\n",
       "</div>"
      ],
      "text/plain": [
       "           mean_loan_amount  max_loan_amount  min_loan_amount\n",
       "client_id                                                    \n",
       "25707           7963.950000            13913             1212\n",
       "26326           7270.062500            13464             1164\n",
       "26695           7824.722222            14865             2389\n",
       "26945           7125.933333            14593              653\n",
       "29841           9813.000000            14837             2778"
      ]
     },
     "execution_count": 8,
     "metadata": {},
     "output_type": "execute_result"
    }
   ],
   "source": [
    "# Groupby client id and calculate mean, max, min previous loan size\n",
    "stats = loans.groupby('client_id')['loan_amount'].agg(['mean', 'max', 'min'])\n",
    "stats.columns = ['mean_loan_amount', 'max_loan_amount', 'min_loan_amount']\n",
    "stats.head()"
   ]
  },
  {
   "cell_type": "code",
   "execution_count": 9,
   "metadata": {
    "colab": {
     "autoexec": {
      "startup": false,
      "wait_interval": 0
     }
    },
    "colab_type": "code",
    "id": "Kf63VwWytmm8"
   },
   "outputs": [
    {
     "data": {
      "text/html": [
       "<div>\n",
       "<style scoped>\n",
       "    .dataframe tbody tr th:only-of-type {\n",
       "        vertical-align: middle;\n",
       "    }\n",
       "\n",
       "    .dataframe tbody tr th {\n",
       "        vertical-align: top;\n",
       "    }\n",
       "\n",
       "    .dataframe thead th {\n",
       "        text-align: right;\n",
       "    }\n",
       "</style>\n",
       "<table border=\"1\" class=\"dataframe\">\n",
       "  <thead>\n",
       "    <tr style=\"text-align: right;\">\n",
       "      <th></th>\n",
       "      <th>client_id</th>\n",
       "      <th>joined</th>\n",
       "      <th>income</th>\n",
       "      <th>credit_score</th>\n",
       "      <th>join_month</th>\n",
       "      <th>log_income</th>\n",
       "      <th>mean_loan_amount</th>\n",
       "      <th>max_loan_amount</th>\n",
       "      <th>min_loan_amount</th>\n",
       "    </tr>\n",
       "  </thead>\n",
       "  <tbody>\n",
       "    <tr>\n",
       "      <th>0</th>\n",
       "      <td>46109</td>\n",
       "      <td>2002-04-16</td>\n",
       "      <td>172677</td>\n",
       "      <td>527</td>\n",
       "      <td>4</td>\n",
       "      <td>12.059178</td>\n",
       "      <td>8951.600000</td>\n",
       "      <td>14049</td>\n",
       "      <td>559</td>\n",
       "    </tr>\n",
       "    <tr>\n",
       "      <th>1</th>\n",
       "      <td>49545</td>\n",
       "      <td>2007-11-14</td>\n",
       "      <td>104564</td>\n",
       "      <td>770</td>\n",
       "      <td>11</td>\n",
       "      <td>11.557555</td>\n",
       "      <td>10289.300000</td>\n",
       "      <td>14971</td>\n",
       "      <td>3851</td>\n",
       "    </tr>\n",
       "    <tr>\n",
       "      <th>2</th>\n",
       "      <td>41480</td>\n",
       "      <td>2013-03-11</td>\n",
       "      <td>122607</td>\n",
       "      <td>585</td>\n",
       "      <td>3</td>\n",
       "      <td>11.716739</td>\n",
       "      <td>7894.850000</td>\n",
       "      <td>14399</td>\n",
       "      <td>811</td>\n",
       "    </tr>\n",
       "    <tr>\n",
       "      <th>3</th>\n",
       "      <td>46180</td>\n",
       "      <td>2001-11-06</td>\n",
       "      <td>43851</td>\n",
       "      <td>562</td>\n",
       "      <td>11</td>\n",
       "      <td>10.688553</td>\n",
       "      <td>7700.850000</td>\n",
       "      <td>14081</td>\n",
       "      <td>1607</td>\n",
       "    </tr>\n",
       "    <tr>\n",
       "      <th>4</th>\n",
       "      <td>25707</td>\n",
       "      <td>2006-10-06</td>\n",
       "      <td>211422</td>\n",
       "      <td>621</td>\n",
       "      <td>10</td>\n",
       "      <td>12.261611</td>\n",
       "      <td>7963.950000</td>\n",
       "      <td>13913</td>\n",
       "      <td>1212</td>\n",
       "    </tr>\n",
       "    <tr>\n",
       "      <th>5</th>\n",
       "      <td>39505</td>\n",
       "      <td>2011-10-14</td>\n",
       "      <td>153873</td>\n",
       "      <td>610</td>\n",
       "      <td>10</td>\n",
       "      <td>11.943883</td>\n",
       "      <td>7424.050000</td>\n",
       "      <td>14575</td>\n",
       "      <td>904</td>\n",
       "    </tr>\n",
       "    <tr>\n",
       "      <th>6</th>\n",
       "      <td>32726</td>\n",
       "      <td>2006-05-01</td>\n",
       "      <td>235705</td>\n",
       "      <td>730</td>\n",
       "      <td>5</td>\n",
       "      <td>12.370336</td>\n",
       "      <td>6633.263158</td>\n",
       "      <td>14802</td>\n",
       "      <td>851</td>\n",
       "    </tr>\n",
       "    <tr>\n",
       "      <th>7</th>\n",
       "      <td>35089</td>\n",
       "      <td>2010-03-01</td>\n",
       "      <td>131176</td>\n",
       "      <td>771</td>\n",
       "      <td>3</td>\n",
       "      <td>11.784295</td>\n",
       "      <td>6939.200000</td>\n",
       "      <td>13194</td>\n",
       "      <td>773</td>\n",
       "    </tr>\n",
       "    <tr>\n",
       "      <th>8</th>\n",
       "      <td>35214</td>\n",
       "      <td>2003-08-08</td>\n",
       "      <td>95849</td>\n",
       "      <td>696</td>\n",
       "      <td>8</td>\n",
       "      <td>11.470529</td>\n",
       "      <td>7173.555556</td>\n",
       "      <td>14767</td>\n",
       "      <td>667</td>\n",
       "    </tr>\n",
       "    <tr>\n",
       "      <th>9</th>\n",
       "      <td>48177</td>\n",
       "      <td>2008-06-09</td>\n",
       "      <td>190632</td>\n",
       "      <td>769</td>\n",
       "      <td>6</td>\n",
       "      <td>12.158100</td>\n",
       "      <td>7424.368421</td>\n",
       "      <td>14740</td>\n",
       "      <td>659</td>\n",
       "    </tr>\n",
       "  </tbody>\n",
       "</table>\n",
       "</div>"
      ],
      "text/plain": [
       "   client_id     joined  income  credit_score  join_month  log_income  \\\n",
       "0      46109 2002-04-16  172677           527           4   12.059178   \n",
       "1      49545 2007-11-14  104564           770          11   11.557555   \n",
       "2      41480 2013-03-11  122607           585           3   11.716739   \n",
       "3      46180 2001-11-06   43851           562          11   10.688553   \n",
       "4      25707 2006-10-06  211422           621          10   12.261611   \n",
       "5      39505 2011-10-14  153873           610          10   11.943883   \n",
       "6      32726 2006-05-01  235705           730           5   12.370336   \n",
       "7      35089 2010-03-01  131176           771           3   11.784295   \n",
       "8      35214 2003-08-08   95849           696           8   11.470529   \n",
       "9      48177 2008-06-09  190632           769           6   12.158100   \n",
       "\n",
       "   mean_loan_amount  max_loan_amount  min_loan_amount  \n",
       "0       8951.600000            14049              559  \n",
       "1      10289.300000            14971             3851  \n",
       "2       7894.850000            14399              811  \n",
       "3       7700.850000            14081             1607  \n",
       "4       7963.950000            13913             1212  \n",
       "5       7424.050000            14575              904  \n",
       "6       6633.263158            14802              851  \n",
       "7       6939.200000            13194              773  \n",
       "8       7173.555556            14767              667  \n",
       "9       7424.368421            14740              659  "
      ]
     },
     "execution_count": 9,
     "metadata": {},
     "output_type": "execute_result"
    }
   ],
   "source": [
    "# Merge with the clients dataframe\n",
    "clients.merge(stats, left_on = 'client_id', right_index=True, how = 'left').head(10)"
   ]
  },
  {
   "cell_type": "markdown",
   "metadata": {
    "colab_type": "text",
    "id": "0aVnENNBt6pN"
   },
   "source": [
    "If we then wanted to include information about the `payments` we would have to group that dataframe by the `loan_id`, merge it with the `loans`, group the resulting dataframe by the `client_id`, and then merge it into the `clients` dataframe. This would allow us to include information about previous payments for each client. Clearly, this process can grow quite tedious with multiple tables and I certainly don't want to have to do this process by hand! Luckily, feature tools can automatically carry out this entire process and will create more features than we would have ever thought of. Although I love `pandas`, there is only so much manual data manipulation I'm willing to stand! "
   ]
  },
  {
   "cell_type": "markdown",
   "metadata": {
    "colab_type": "text",
    "id": "UWAPnDJruqNs"
   },
   "source": [
    "# Feature Tools\n",
    "\n",
    "Now that we know what we are trying to avoid, let's figure out how to automate this process. Feature tools takes the human limits of time and imagination out of the manual feature engineering process (although it is meant to be used together with a data scientist and not replace them!) Feature tools operates on an idea known as Deep Feature Synthesis. You can read the original paper here, and although it's quite readable, it's not necessary to understand the details to do automated feature engineering. Basically, feature tools uses basic building blocks known as feature primitives (like those above) that when combined together can yield multiple new variables. These variables can then be used for supervised machine learning. \n",
    "\n",
    "I threw out some terms there, but don't worry because we'll cover them as we go. Feature Tools builds on simple ideas to create a powerful method, and we will build up our understanding in much the same way. \n",
    "\n",
    "The first part of Feature Tools to understand is an `entity`. This is simply a table, or in `pandas`, a `DataFrame`. We corral multiple entities into a single object called an `EntitySet`. This is a data structure composed of many entities and is quite useful for Deep Feature Synthesis. The `EntitySet` will hold all of our entities (think tables) and the relationships between them. \n",
    "\n",
    "## EntitySet\n",
    "\n",
    "Creating a new `EntitySet` is pretty simple: "
   ]
  },
  {
   "cell_type": "code",
   "execution_count": 10,
   "metadata": {
    "colab": {
     "autoexec": {
      "startup": false,
      "wait_interval": 0
     }
    },
    "colab_type": "code",
    "id": "XTwph48RGr9Q"
   },
   "outputs": [],
   "source": [
    "es = ft.EntitySet(id = 'clients')"
   ]
  },
  {
   "cell_type": "markdown",
   "metadata": {
    "colab_type": "text",
    "id": "pHJSYZU1Vro7"
   },
   "source": [
    "## Entities \n",
    "\n",
    "An entity is simply a table, which is represented in Pandas as a `dataframe`. Each entity must have a uniquely identifying column, known as an index. For the clients dataframe, this is the `client_id` because each id only appears once in the data. In the `loans` dataframe, `client_id` is not an index because each id might appear more than once. The index for this dataframe is instead `loan_id`. When we create an `entity` in feature tools, we have to identify which column of the dataframe is the index. \n",
    "\n",
    "If the data does not have a unique index we can tell feature tools to make an index for the entity by passing in `make_index = True` and specifying a name for the index. \n",
    "\n",
    "If the data also has a uniquely identifying time index, we can pass that in as the `time_index` parameter. Feature tools will automatically infer the variable types (numeric, categorical, datetime) of the columns in our data, but we can also pass in specific datatypes to override this behavior. As an example, even though the `repaid` column in the `loans` dataframe is represented as an integer, we can tell feature tools that this is a categorical feature since it can only take on two discrete values. \n",
    "\n",
    "In the code below we create the three entities and add them to the `EntitySet`.  The syntax is relatively straightforward with a few notes: for the `payments` dataframe we need to make an index, and for the `loans` dataframe, we specify that `repaid` is a categorical variable. "
   ]
  },
  {
   "cell_type": "code",
   "execution_count": 11,
   "metadata": {
    "colab": {
     "autoexec": {
      "startup": false,
      "wait_interval": 0
     }
    },
    "colab_type": "code",
    "id": "iWORNI1MGwYQ"
   },
   "outputs": [],
   "source": [
    "# Create an entity from the client dataframe\n",
    "# This dataframe already has an index and a time index\n",
    "es = es.entity_from_dataframe(entity_id = 'clients', dataframe = clients, \n",
    "                              index = 'client_id', time_index = 'joined')"
   ]
  },
  {
   "cell_type": "code",
   "execution_count": 12,
   "metadata": {
    "colab": {
     "autoexec": {
      "startup": false,
      "wait_interval": 0
     }
    },
    "colab_type": "code",
    "id": "7_aDZl4IG98s"
   },
   "outputs": [],
   "source": [
    "# Create an entity from the loans dataframe\n",
    "# This dataframe already has an index and a time index\n",
    "es = es.entity_from_dataframe(entity_id = 'loans', dataframe = loans, \n",
    "                              variable_types = {'repaid': ft.variable_types.Categorical},\n",
    "                              index = 'loan_id', time_index = 'loan_start')"
   ]
  },
  {
   "cell_type": "code",
   "execution_count": 13,
   "metadata": {
    "colab": {
     "autoexec": {
      "startup": false,
      "wait_interval": 0
     }
    },
    "colab_type": "code",
    "id": "8VAjTWWbSXmi"
   },
   "outputs": [],
   "source": [
    "# Create an entity from the payments dataframe\n",
    "# This does not yet have a unique index\n",
    "es = es.entity_from_dataframe(entity_id = 'payments', \n",
    "                              dataframe = payments,\n",
    "                              variable_types = {'missed': ft.variable_types.Categorical},\n",
    "                              make_index = True,\n",
    "                              index = 'payment_id',\n",
    "                              time_index = 'payment_date')"
   ]
  },
  {
   "cell_type": "code",
   "execution_count": 14,
   "metadata": {
    "colab": {
     "autoexec": {
      "startup": false,
      "wait_interval": 0
     }
    },
    "colab_type": "code",
    "id": "1EV_Zg7QSxTo"
   },
   "outputs": [
    {
     "data": {
      "text/plain": [
       "Entityset: clients\n",
       "  Entities:\n",
       "    clients [Rows: 25, Columns: 6]\n",
       "    loans [Rows: 443, Columns: 8]\n",
       "    payments [Rows: 3456, Columns: 5]\n",
       "  Relationships:\n",
       "    No relationships"
      ]
     },
     "execution_count": 14,
     "metadata": {},
     "output_type": "execute_result"
    }
   ],
   "source": [
    "es"
   ]
  },
  {
   "cell_type": "markdown",
   "metadata": {
    "colab_type": "text",
    "id": "xmQwcxRQXQAf"
   },
   "source": [
    "All three entities have been successfully added to the `EntitySet`. We can access any of these using Python dictionary syntax."
   ]
  },
  {
   "cell_type": "code",
   "execution_count": 15,
   "metadata": {
    "colab": {
     "autoexec": {
      "startup": false,
      "wait_interval": 0
     }
    },
    "colab_type": "code",
    "id": "7rFib_OrXZiN"
   },
   "outputs": [
    {
     "data": {
      "text/plain": [
       "Entity: loans\n",
       "  Variables:\n",
       "    client_id (dtype: numeric)\n",
       "    loan_type (dtype: categorical)\n",
       "    loan_amount (dtype: numeric)\n",
       "    loan_start (dtype: datetime_time_index)\n",
       "    loan_end (dtype: datetime)\n",
       "    rate (dtype: numeric)\n",
       "    repaid (dtype: categorical)\n",
       "    loan_id (dtype: index)\n",
       "  Shape:\n",
       "    (Rows: 443, Columns: 8)"
      ]
     },
     "execution_count": 15,
     "metadata": {},
     "output_type": "execute_result"
    }
   ],
   "source": [
    "es['loans']"
   ]
  },
  {
   "cell_type": "markdown",
   "metadata": {
    "colab_type": "text",
    "id": "sZJ-HlanXduM"
   },
   "source": [
    "Feature tools correctly inferred each of the datatypes when we made this entity. We can also see that we overrode the type for the `repaid` feature, changing if from numeric to categorical. "
   ]
  },
  {
   "cell_type": "markdown",
   "metadata": {
    "colab_type": "text",
    "id": "fhs4qoakVNyk"
   },
   "source": [
    "## Relationships\n",
    "\n",
    "After defining the entities (tables) in an `EntitySet`, we now need to tell feature tools how they are related. The most intuitive way to think of relationships is with the parent to child analogy: a parent-to-child relationship is one-to-many because for each parent, there can be multiple children. The `client` dataframe is therefore the parent of the `loans` dataframe because while there is only one row for each client in the `client` dataframe, each client may have several previous loans covering multiple rows in the `loans` dataframe. Likewise, the `loans` dataframe is the parent of the `payments` dataframe because each loan will have multiple payments. \n",
    "\n",
    "These relationships are what allow us to group together datapoints (called aggregating) and then create new features. As an example, we can group all of the previous loans associated with one client and find the average loan amount. We will discuss the features themselves more in a little bit, but for now let's define the relationships. To define relationships, we need to specify the parent variable and the child variable. This is the variable that links two entities together. In our example, the `client` and `loans` dataframes are linked together by the `client_id` column. Again, this is a parent to child relationship because for each `client_id` in the parent `client` dataframe, there may be multiple entries of the same `client_id` in the child `loans` dataframe. \n",
    "\n",
    "We codify relationships in the language of feature tools by specifying the parent variable and then the child variable. After creating a relationship, we add it to the `EntitySet`. "
   ]
  },
  {
   "cell_type": "code",
   "execution_count": 16,
   "metadata": {
    "colab": {
     "autoexec": {
      "startup": false,
      "wait_interval": 0
     }
    },
    "colab_type": "code",
    "id": "ChKZnFWTVJrh"
   },
   "outputs": [
    {
     "data": {
      "text/plain": [
       "Entityset: clients\n",
       "  Entities:\n",
       "    clients [Rows: 25, Columns: 6]\n",
       "    loans [Rows: 443, Columns: 8]\n",
       "    payments [Rows: 3456, Columns: 5]\n",
       "  Relationships:\n",
       "    loans.client_id -> clients.client_id"
      ]
     },
     "execution_count": 16,
     "metadata": {},
     "output_type": "execute_result"
    }
   ],
   "source": [
    "# Relationship between clients and previous loans\n",
    "r_client_previous = ft.Relationship(es['clients']['client_id'],\n",
    "                                    es['loans']['client_id'])\n",
    "\n",
    "# Add the relationship to the entity set\n",
    "es = es.add_relationship(r_client_previous)\n",
    "\n",
    "es"
   ]
  },
  {
   "cell_type": "markdown",
   "metadata": {
    "colab_type": "text",
    "id": "DAPdMnwnZkHM"
   },
   "source": [
    "The relationship has now been stored in the entity set. The second relationship is between the `loans` and `payments`. These two entities are related by the `loan_id` variable."
   ]
  },
  {
   "cell_type": "code",
   "execution_count": 17,
   "metadata": {
    "colab": {
     "autoexec": {
      "startup": false,
      "wait_interval": 0
     }
    },
    "colab_type": "code",
    "id": "DrgSGOEDZe6N"
   },
   "outputs": [],
   "source": [
    "# Relationship between previous loans and previous payments\n",
    "r_payments = ft.Relationship(es['loans']['loan_id'],\n",
    "                                      es['payments']['loan_id'])\n",
    "\n",
    "# Add the relationship to the entity set\n",
    "es = es.add_relationship(r_payments)"
   ]
  },
  {
   "cell_type": "markdown",
   "metadata": {
    "colab_type": "text",
    "id": "oeFZMQVIaBV4"
   },
   "source": [
    "# Deep Feature Synthesis\n",
    "\n",
    "In the paper describing the original idea behind feature tools, the authors named the process of creating new features they developed \"Deep Feature Synthesis\". The deep in the title refers to the idea that features can have different depth depending on the number of feature primitives used. What is a feature primitive? Well, since you asked: \n",
    "\n",
    "\n",
    "## Feature Primitives\n",
    "\n",
    "A feature primitive is an operation acting on a feature. These fall into two categories:\n",
    "\n",
    "* __Aggregation__: function that groups together child datapoints for each parent and then calculates a statistic such as mean, min, max, or standard deviation. An example is calculating the maximum loan amount for each client. \n",
    "* __Transformation__: an operation applied to every observation in a feature. An example would be extracting the day from dates, or the square root of a numeric. In contrast to aggregations, a transformation does not group observations.\n",
    "\n",
    "\n",
    "Let's take a look at feature primitives in feature tools. We can view the list of primitives:"
   ]
  },
  {
   "cell_type": "code",
   "execution_count": 18,
   "metadata": {
    "colab": {
     "autoexec": {
      "startup": false,
      "wait_interval": 0
     }
    },
    "colab_type": "code",
    "id": "KNHzhu7WaALK"
   },
   "outputs": [
    {
     "data": {
      "text/html": [
       "<div>\n",
       "<style scoped>\n",
       "    .dataframe tbody tr th:only-of-type {\n",
       "        vertical-align: middle;\n",
       "    }\n",
       "\n",
       "    .dataframe tbody tr th {\n",
       "        vertical-align: top;\n",
       "    }\n",
       "\n",
       "    .dataframe thead th {\n",
       "        text-align: right;\n",
       "    }\n",
       "</style>\n",
       "<table border=\"1\" class=\"dataframe\">\n",
       "  <thead>\n",
       "    <tr style=\"text-align: right;\">\n",
       "      <th></th>\n",
       "      <th>name</th>\n",
       "      <th>type</th>\n",
       "      <th>description</th>\n",
       "    </tr>\n",
       "  </thead>\n",
       "  <tbody>\n",
       "    <tr>\n",
       "      <th>0</th>\n",
       "      <td>n_most_common</td>\n",
       "      <td>aggregation</td>\n",
       "      <td>Finds the N most common elements in a categori...</td>\n",
       "    </tr>\n",
       "    <tr>\n",
       "      <th>1</th>\n",
       "      <td>std</td>\n",
       "      <td>aggregation</td>\n",
       "      <td>Finds the standard deviation of a numeric feat...</td>\n",
       "    </tr>\n",
       "    <tr>\n",
       "      <th>2</th>\n",
       "      <td>avg_time_between</td>\n",
       "      <td>aggregation</td>\n",
       "      <td>Computes the average time between consecutive ...</td>\n",
       "    </tr>\n",
       "    <tr>\n",
       "      <th>3</th>\n",
       "      <td>max</td>\n",
       "      <td>aggregation</td>\n",
       "      <td>Finds the maximum non-null value of a numeric ...</td>\n",
       "    </tr>\n",
       "    <tr>\n",
       "      <th>4</th>\n",
       "      <td>all</td>\n",
       "      <td>aggregation</td>\n",
       "      <td>Test if all values are 'True'.</td>\n",
       "    </tr>\n",
       "    <tr>\n",
       "      <th>5</th>\n",
       "      <td>num_true</td>\n",
       "      <td>aggregation</td>\n",
       "      <td>Finds the number of 'True' values in a boolean.</td>\n",
       "    </tr>\n",
       "    <tr>\n",
       "      <th>6</th>\n",
       "      <td>mode</td>\n",
       "      <td>aggregation</td>\n",
       "      <td>Finds the most common element in a categorical...</td>\n",
       "    </tr>\n",
       "    <tr>\n",
       "      <th>7</th>\n",
       "      <td>percent_true</td>\n",
       "      <td>aggregation</td>\n",
       "      <td>Finds the percent of 'True' values in a boolea...</td>\n",
       "    </tr>\n",
       "    <tr>\n",
       "      <th>8</th>\n",
       "      <td>num_unique</td>\n",
       "      <td>aggregation</td>\n",
       "      <td>Returns the number of unique categorical varia...</td>\n",
       "    </tr>\n",
       "    <tr>\n",
       "      <th>9</th>\n",
       "      <td>trend</td>\n",
       "      <td>aggregation</td>\n",
       "      <td>Calculates the slope of the linear trend of va...</td>\n",
       "    </tr>\n",
       "  </tbody>\n",
       "</table>\n",
       "</div>"
      ],
      "text/plain": [
       "               name         type  \\\n",
       "0     n_most_common  aggregation   \n",
       "1               std  aggregation   \n",
       "2  avg_time_between  aggregation   \n",
       "3               max  aggregation   \n",
       "4               all  aggregation   \n",
       "5          num_true  aggregation   \n",
       "6              mode  aggregation   \n",
       "7      percent_true  aggregation   \n",
       "8        num_unique  aggregation   \n",
       "9             trend  aggregation   \n",
       "\n",
       "                                         description  \n",
       "0  Finds the N most common elements in a categori...  \n",
       "1  Finds the standard deviation of a numeric feat...  \n",
       "2  Computes the average time between consecutive ...  \n",
       "3  Finds the maximum non-null value of a numeric ...  \n",
       "4                     Test if all values are 'True'.  \n",
       "5    Finds the number of 'True' values in a boolean.  \n",
       "6  Finds the most common element in a categorical...  \n",
       "7  Finds the percent of 'True' values in a boolea...  \n",
       "8  Returns the number of unique categorical varia...  \n",
       "9  Calculates the slope of the linear trend of va...  "
      ]
     },
     "execution_count": 18,
     "metadata": {},
     "output_type": "execute_result"
    }
   ],
   "source": [
    "primitives = ft.list_primitives()\n",
    "primitives[primitives['type'] == 'aggregation'].head(10)"
   ]
  },
  {
   "cell_type": "code",
   "execution_count": 19,
   "metadata": {
    "colab": {
     "autoexec": {
      "startup": false,
      "wait_interval": 0
     }
    },
    "colab_type": "code",
    "id": "-aDilk0Tdjml"
   },
   "outputs": [
    {
     "data": {
      "text/html": [
       "<div>\n",
       "<style scoped>\n",
       "    .dataframe tbody tr th:only-of-type {\n",
       "        vertical-align: middle;\n",
       "    }\n",
       "\n",
       "    .dataframe tbody tr th {\n",
       "        vertical-align: top;\n",
       "    }\n",
       "\n",
       "    .dataframe thead th {\n",
       "        text-align: right;\n",
       "    }\n",
       "</style>\n",
       "<table border=\"1\" class=\"dataframe\">\n",
       "  <thead>\n",
       "    <tr style=\"text-align: right;\">\n",
       "      <th></th>\n",
       "      <th>name</th>\n",
       "      <th>type</th>\n",
       "      <th>description</th>\n",
       "    </tr>\n",
       "  </thead>\n",
       "  <tbody>\n",
       "    <tr>\n",
       "      <th>19</th>\n",
       "      <td>longitude</td>\n",
       "      <td>transform</td>\n",
       "      <td>Returns the second value on the tuple base fea...</td>\n",
       "    </tr>\n",
       "    <tr>\n",
       "      <th>20</th>\n",
       "      <td>latitude</td>\n",
       "      <td>transform</td>\n",
       "      <td>Returns the first value of the tuple base feat...</td>\n",
       "    </tr>\n",
       "    <tr>\n",
       "      <th>21</th>\n",
       "      <td>percentile</td>\n",
       "      <td>transform</td>\n",
       "      <td>For each value of the base feature, determines...</td>\n",
       "    </tr>\n",
       "    <tr>\n",
       "      <th>22</th>\n",
       "      <td>month</td>\n",
       "      <td>transform</td>\n",
       "      <td>Transform a Datetime feature into the month.</td>\n",
       "    </tr>\n",
       "    <tr>\n",
       "      <th>23</th>\n",
       "      <td>cum_sum</td>\n",
       "      <td>transform</td>\n",
       "      <td>Calculates the sum of previous values of an in...</td>\n",
       "    </tr>\n",
       "    <tr>\n",
       "      <th>24</th>\n",
       "      <td>week</td>\n",
       "      <td>transform</td>\n",
       "      <td>Transform a Datetime feature into the week.</td>\n",
       "    </tr>\n",
       "    <tr>\n",
       "      <th>25</th>\n",
       "      <td>diff</td>\n",
       "      <td>transform</td>\n",
       "      <td>Compute the difference between the value of a ...</td>\n",
       "    </tr>\n",
       "    <tr>\n",
       "      <th>26</th>\n",
       "      <td>haversine</td>\n",
       "      <td>transform</td>\n",
       "      <td>Calculate the approximate haversine distance i...</td>\n",
       "    </tr>\n",
       "    <tr>\n",
       "      <th>27</th>\n",
       "      <td>numwords</td>\n",
       "      <td>transform</td>\n",
       "      <td>Returns the words in a given string by countin...</td>\n",
       "    </tr>\n",
       "    <tr>\n",
       "      <th>28</th>\n",
       "      <td>weekday</td>\n",
       "      <td>transform</td>\n",
       "      <td>Transform Datetime feature into the boolean of...</td>\n",
       "    </tr>\n",
       "  </tbody>\n",
       "</table>\n",
       "</div>"
      ],
      "text/plain": [
       "          name       type                                        description\n",
       "19   longitude  transform  Returns the second value on the tuple base fea...\n",
       "20    latitude  transform  Returns the first value of the tuple base feat...\n",
       "21  percentile  transform  For each value of the base feature, determines...\n",
       "22       month  transform       Transform a Datetime feature into the month.\n",
       "23     cum_sum  transform  Calculates the sum of previous values of an in...\n",
       "24        week  transform        Transform a Datetime feature into the week.\n",
       "25        diff  transform  Compute the difference between the value of a ...\n",
       "26   haversine  transform  Calculate the approximate haversine distance i...\n",
       "27    numwords  transform  Returns the words in a given string by countin...\n",
       "28     weekday  transform  Transform Datetime feature into the boolean of..."
      ]
     },
     "execution_count": 19,
     "metadata": {},
     "output_type": "execute_result"
    }
   ],
   "source": [
    "primitives[primitives['type'] == 'transform'].head(10)"
   ]
  },
  {
   "cell_type": "markdown",
   "metadata": {
    "colab_type": "text",
    "id": "QWMofjqMdur6"
   },
   "source": [
    "If feature tools does not have enough primitives for us, we can also make our own. \n",
    "\n",
    "To get an idea of what a feature primitive actually does, let's try out a few on our data. Using primitives is surprisingly easy using the `ft.dfs` function (which stands for deep feature synthesis). In this function, we specify the entityset to use; the `target_entity`, which is the dataframe we want to make the features for; the `agg_primitives` which are the aggregation feature primitives; and the `trans_primitives` which are the transformation primitives to apply. \n",
    "\n",
    "In the following example, we are using the `EntitySet` we already created, the target entity is the `clients` dataframe because we want to make new features about each client, and then we specify a few aggregation and transformation primitives. "
   ]
  },
  {
   "cell_type": "code",
   "execution_count": 20,
   "metadata": {
    "colab": {
     "autoexec": {
      "startup": false,
      "wait_interval": 0
     }
    },
    "colab_type": "code",
    "id": "GVK71fusd8uF"
   },
   "outputs": [],
   "source": [
    "# Create new features using specified primitives\n",
    "features, feature_names = ft.dfs(entityset = es, target_entity = 'clients', \n",
    "                                 agg_primitives = ['mean', 'max', 'percent_true', 'last'],\n",
    "                                 trans_primitives = ['years', 'month', 'subtract', 'divide'])"
   ]
  },
  {
   "cell_type": "code",
   "execution_count": 21,
   "metadata": {
    "colab": {
     "autoexec": {
      "startup": false,
      "wait_interval": 0
     }
    },
    "colab_type": "code",
    "id": "2EFpoAJYezfD"
   },
   "outputs": [
    {
     "data": {
      "text/html": [
       "<div>\n",
       "<style scoped>\n",
       "    .dataframe tbody tr th:only-of-type {\n",
       "        vertical-align: middle;\n",
       "    }\n",
       "\n",
       "    .dataframe tbody tr th {\n",
       "        vertical-align: top;\n",
       "    }\n",
       "\n",
       "    .dataframe thead th {\n",
       "        text-align: right;\n",
       "    }\n",
       "</style>\n",
       "<table border=\"1\" class=\"dataframe\">\n",
       "  <thead>\n",
       "    <tr style=\"text-align: right;\">\n",
       "      <th></th>\n",
       "      <th>income</th>\n",
       "      <th>credit_score</th>\n",
       "      <th>join_month</th>\n",
       "      <th>log_income</th>\n",
       "      <th>MEAN(loans.loan_amount)</th>\n",
       "      <th>MEAN(loans.rate)</th>\n",
       "      <th>MAX(loans.loan_amount)</th>\n",
       "      <th>MAX(loans.rate)</th>\n",
       "      <th>LAST(loans.loan_type)</th>\n",
       "      <th>LAST(loans.loan_amount)</th>\n",
       "      <th>...</th>\n",
       "      <th>income / income - log_income</th>\n",
       "      <th>credit_score - log_income / join_month</th>\n",
       "      <th>log_income - income / log_income - join_month</th>\n",
       "      <th>income - log_income / LAST(payments.payment_amount)</th>\n",
       "      <th>income - credit_score / join_month</th>\n",
       "      <th>MAX(loans.rate) / MEAN(loans.loan_amount)</th>\n",
       "      <th>MAX(payments.payment_amount) / LAST(loans.rate)</th>\n",
       "      <th>credit_score - log_income / LAST(loans.loan_amount)</th>\n",
       "      <th>credit_score - join_month / credit_score - log_income</th>\n",
       "      <th>income - credit_score / LAST(loans.loan_amount)</th>\n",
       "    </tr>\n",
       "    <tr>\n",
       "      <th>client_id</th>\n",
       "      <th></th>\n",
       "      <th></th>\n",
       "      <th></th>\n",
       "      <th></th>\n",
       "      <th></th>\n",
       "      <th></th>\n",
       "      <th></th>\n",
       "      <th></th>\n",
       "      <th></th>\n",
       "      <th></th>\n",
       "      <th></th>\n",
       "      <th></th>\n",
       "      <th></th>\n",
       "      <th></th>\n",
       "      <th></th>\n",
       "      <th></th>\n",
       "      <th></th>\n",
       "      <th></th>\n",
       "      <th></th>\n",
       "      <th></th>\n",
       "      <th></th>\n",
       "    </tr>\n",
       "  </thead>\n",
       "  <tbody>\n",
       "    <tr>\n",
       "      <th>25707</th>\n",
       "      <td>211422</td>\n",
       "      <td>621</td>\n",
       "      <td>10</td>\n",
       "      <td>12.261611</td>\n",
       "      <td>7963.950000</td>\n",
       "      <td>3.477000</td>\n",
       "      <td>13913</td>\n",
       "      <td>9.44</td>\n",
       "      <td>home</td>\n",
       "      <td>2203</td>\n",
       "      <td>...</td>\n",
       "      <td>1.000058</td>\n",
       "      <td>60.873839</td>\n",
       "      <td>-93477.481134</td>\n",
       "      <td>877.218831</td>\n",
       "      <td>21080.100000</td>\n",
       "      <td>0.001185</td>\n",
       "      <td>365.405405</td>\n",
       "      <td>0.276322</td>\n",
       "      <td>1.003715</td>\n",
       "      <td>95.688153</td>\n",
       "    </tr>\n",
       "    <tr>\n",
       "      <th>26326</th>\n",
       "      <td>227920</td>\n",
       "      <td>633</td>\n",
       "      <td>5</td>\n",
       "      <td>12.336750</td>\n",
       "      <td>7270.062500</td>\n",
       "      <td>2.517500</td>\n",
       "      <td>13464</td>\n",
       "      <td>6.73</td>\n",
       "      <td>credit</td>\n",
       "      <td>5275</td>\n",
       "      <td>...</td>\n",
       "      <td>1.000054</td>\n",
       "      <td>124.132650</td>\n",
       "      <td>-31063.844919</td>\n",
       "      <td>244.536119</td>\n",
       "      <td>45457.400000</td>\n",
       "      <td>0.000926</td>\n",
       "      <td>1833.103448</td>\n",
       "      <td>0.117661</td>\n",
       "      <td>1.011821</td>\n",
       "      <td>43.087583</td>\n",
       "    </tr>\n",
       "    <tr>\n",
       "      <th>26695</th>\n",
       "      <td>174532</td>\n",
       "      <td>680</td>\n",
       "      <td>8</td>\n",
       "      <td>12.069863</td>\n",
       "      <td>7824.722222</td>\n",
       "      <td>2.466111</td>\n",
       "      <td>14865</td>\n",
       "      <td>6.51</td>\n",
       "      <td>other</td>\n",
       "      <td>13918</td>\n",
       "      <td>...</td>\n",
       "      <td>1.000069</td>\n",
       "      <td>83.491267</td>\n",
       "      <td>-42881.029074</td>\n",
       "      <td>83.742769</td>\n",
       "      <td>21731.500000</td>\n",
       "      <td>0.000832</td>\n",
       "      <td>3257.777778</td>\n",
       "      <td>0.047990</td>\n",
       "      <td>1.006093</td>\n",
       "      <td>12.491163</td>\n",
       "    </tr>\n",
       "    <tr>\n",
       "      <th>26945</th>\n",
       "      <td>214516</td>\n",
       "      <td>806</td>\n",
       "      <td>11</td>\n",
       "      <td>12.276140</td>\n",
       "      <td>7125.933333</td>\n",
       "      <td>2.855333</td>\n",
       "      <td>14593</td>\n",
       "      <td>5.65</td>\n",
       "      <td>cash</td>\n",
       "      <td>9249</td>\n",
       "      <td>...</td>\n",
       "      <td>1.000057</td>\n",
       "      <td>72.156715</td>\n",
       "      <td>-168087.976224</td>\n",
       "      <td>134.316671</td>\n",
       "      <td>19428.181818</td>\n",
       "      <td>0.000793</td>\n",
       "      <td>967.832168</td>\n",
       "      <td>0.085817</td>\n",
       "      <td>1.001608</td>\n",
       "      <td>23.106282</td>\n",
       "    </tr>\n",
       "    <tr>\n",
       "      <th>29841</th>\n",
       "      <td>38354</td>\n",
       "      <td>523</td>\n",
       "      <td>8</td>\n",
       "      <td>10.554614</td>\n",
       "      <td>9813.000000</td>\n",
       "      <td>3.445000</td>\n",
       "      <td>14837</td>\n",
       "      <td>6.76</td>\n",
       "      <td>home</td>\n",
       "      <td>7223</td>\n",
       "      <td>...</td>\n",
       "      <td>1.000275</td>\n",
       "      <td>64.055673</td>\n",
       "      <td>-15009.486297</td>\n",
       "      <td>47.929307</td>\n",
       "      <td>4728.875000</td>\n",
       "      <td>0.000689</td>\n",
       "      <td>569.351670</td>\n",
       "      <td>0.070946</td>\n",
       "      <td>1.004985</td>\n",
       "      <td>5.237574</td>\n",
       "    </tr>\n",
       "  </tbody>\n",
       "</table>\n",
       "<p>5 rows × 797 columns</p>\n",
       "</div>"
      ],
      "text/plain": [
       "           income  credit_score  join_month  log_income  \\\n",
       "client_id                                                 \n",
       "25707      211422           621          10   12.261611   \n",
       "26326      227920           633           5   12.336750   \n",
       "26695      174532           680           8   12.069863   \n",
       "26945      214516           806          11   12.276140   \n",
       "29841       38354           523           8   10.554614   \n",
       "\n",
       "           MEAN(loans.loan_amount)  MEAN(loans.rate)  MAX(loans.loan_amount)  \\\n",
       "client_id                                                                      \n",
       "25707                  7963.950000          3.477000                   13913   \n",
       "26326                  7270.062500          2.517500                   13464   \n",
       "26695                  7824.722222          2.466111                   14865   \n",
       "26945                  7125.933333          2.855333                   14593   \n",
       "29841                  9813.000000          3.445000                   14837   \n",
       "\n",
       "           MAX(loans.rate) LAST(loans.loan_type)  LAST(loans.loan_amount)  \\\n",
       "client_id                                                                   \n",
       "25707                 9.44                  home                     2203   \n",
       "26326                 6.73                credit                     5275   \n",
       "26695                 6.51                 other                    13918   \n",
       "26945                 5.65                  cash                     9249   \n",
       "29841                 6.76                  home                     7223   \n",
       "\n",
       "                                ...                         \\\n",
       "client_id                       ...                          \n",
       "25707                           ...                          \n",
       "26326                           ...                          \n",
       "26695                           ...                          \n",
       "26945                           ...                          \n",
       "29841                           ...                          \n",
       "\n",
       "           income / income - log_income  \\\n",
       "client_id                                 \n",
       "25707                          1.000058   \n",
       "26326                          1.000054   \n",
       "26695                          1.000069   \n",
       "26945                          1.000057   \n",
       "29841                          1.000275   \n",
       "\n",
       "           credit_score - log_income / join_month  \\\n",
       "client_id                                           \n",
       "25707                                   60.873839   \n",
       "26326                                  124.132650   \n",
       "26695                                   83.491267   \n",
       "26945                                   72.156715   \n",
       "29841                                   64.055673   \n",
       "\n",
       "           log_income - income / log_income - join_month  \\\n",
       "client_id                                                  \n",
       "25707                                      -93477.481134   \n",
       "26326                                      -31063.844919   \n",
       "26695                                      -42881.029074   \n",
       "26945                                     -168087.976224   \n",
       "29841                                      -15009.486297   \n",
       "\n",
       "           income - log_income / LAST(payments.payment_amount)  \\\n",
       "client_id                                                        \n",
       "25707                                             877.218831     \n",
       "26326                                             244.536119     \n",
       "26695                                              83.742769     \n",
       "26945                                             134.316671     \n",
       "29841                                              47.929307     \n",
       "\n",
       "           income - credit_score / join_month  \\\n",
       "client_id                                       \n",
       "25707                            21080.100000   \n",
       "26326                            45457.400000   \n",
       "26695                            21731.500000   \n",
       "26945                            19428.181818   \n",
       "29841                             4728.875000   \n",
       "\n",
       "           MAX(loans.rate) / MEAN(loans.loan_amount)  \\\n",
       "client_id                                              \n",
       "25707                                       0.001185   \n",
       "26326                                       0.000926   \n",
       "26695                                       0.000832   \n",
       "26945                                       0.000793   \n",
       "29841                                       0.000689   \n",
       "\n",
       "           MAX(payments.payment_amount) / LAST(loans.rate)  \\\n",
       "client_id                                                    \n",
       "25707                                           365.405405   \n",
       "26326                                          1833.103448   \n",
       "26695                                          3257.777778   \n",
       "26945                                           967.832168   \n",
       "29841                                           569.351670   \n",
       "\n",
       "           credit_score - log_income / LAST(loans.loan_amount)  \\\n",
       "client_id                                                        \n",
       "25707                                               0.276322     \n",
       "26326                                               0.117661     \n",
       "26695                                               0.047990     \n",
       "26945                                               0.085817     \n",
       "29841                                               0.070946     \n",
       "\n",
       "           credit_score - join_month / credit_score - log_income  \\\n",
       "client_id                                                          \n",
       "25707                                               1.003715       \n",
       "26326                                               1.011821       \n",
       "26695                                               1.006093       \n",
       "26945                                               1.001608       \n",
       "29841                                               1.004985       \n",
       "\n",
       "           income - credit_score / LAST(loans.loan_amount)  \n",
       "client_id                                                   \n",
       "25707                                            95.688153  \n",
       "26326                                            43.087583  \n",
       "26695                                            12.491163  \n",
       "26945                                            23.106282  \n",
       "29841                                             5.237574  \n",
       "\n",
       "[5 rows x 797 columns]"
      ]
     },
     "execution_count": 21,
     "metadata": {},
     "output_type": "execute_result"
    }
   ],
   "source": [
    "features.head()"
   ]
  },
  {
   "cell_type": "markdown",
   "metadata": {
    "colab_type": "text",
    "id": "C0kKwJHQfP9J"
   },
   "source": [
    "Already we can see how useful feature tools is: it performed the same operations we did manually but also many more in addition. Examining the dataframe brings us to the final piece of the puzzle: deep features.\n",
    "\n",
    "## Feature Depth\n",
    "\n",
    "While feature primitives are useful by themselves, the main benefit of using feature tools arises when we stack primitives to get deep features. The depth of a feature is simply the number of primitives required to make a feature. So, a feature that relies on a single aggregation would be a deep feature with a depth of 1. The idea itself is lot simpler than the name \"deep feature synthesis\" implies. (I think the authors were trying to ride the way of deep neural network hype when they named the method!)\n",
    "\n",
    "Already in the dataframe we made by specifying the primitives manually we can see the idea of feature depth. For instance, the MEAN(loans.loan_amount) feature has a depth of 1 because it is made by applying a single aggregation primitive. This feature represents the average size of a client's previous loans.\n"
   ]
  },
  {
   "cell_type": "code",
   "execution_count": 22,
   "metadata": {
    "colab": {
     "autoexec": {
      "startup": false,
      "wait_interval": 0
     }
    },
    "colab_type": "code",
    "id": "HBHqFlqpgKD6"
   },
   "outputs": [
    {
     "data": {
      "text/plain": [
       "client_id\n",
       "25707    7963.950000\n",
       "26326    7270.062500\n",
       "26695    7824.722222\n",
       "26945    7125.933333\n",
       "29841    9813.000000\n",
       "32726    6633.263158\n",
       "32885    9920.400000\n",
       "32961    7882.235294\n",
       "35089    6939.200000\n",
       "35214    7173.555556\n",
       "Name: MEAN(loans.loan_amount), dtype: float64"
      ]
     },
     "execution_count": 22,
     "metadata": {},
     "output_type": "execute_result"
    }
   ],
   "source": [
    "# Show a feature with a depth of 1\n",
    "features['MEAN(loans.loan_amount)'].head(10)"
   ]
  },
  {
   "cell_type": "markdown",
   "metadata": {
    "colab_type": "text",
    "id": "b3FttmpFdDoo"
   },
   "source": [
    "As well scroll through the features, we see a number of features with a depth of 2. For example, the LAST(loans.(MEAN(payments.payment_amount))) has depth = 2 because it is made by stacking two feature primitives, first an aggregation and then a transformation. This feature represents the average payment amount for the last (most recent) loan for each client."
   ]
  },
  {
   "cell_type": "code",
   "execution_count": 23,
   "metadata": {
    "colab": {
     "autoexec": {
      "startup": false,
      "wait_interval": 0
     }
    },
    "colab_type": "code",
    "id": "xStafjwZgneQ"
   },
   "outputs": [
    {
     "data": {
      "text/plain": [
       "client_id\n",
       "25707     293.500000\n",
       "26326     977.375000\n",
       "26695    1769.166667\n",
       "26945    1598.666667\n",
       "29841    1125.500000\n",
       "32726     799.500000\n",
       "32885    1729.000000\n",
       "32961     282.600000\n",
       "35089     110.400000\n",
       "35214    1410.250000\n",
       "Name: LAST(loans.MEAN(payments.payment_amount)), dtype: float64"
      ]
     },
     "execution_count": 23,
     "metadata": {},
     "output_type": "execute_result"
    }
   ],
   "source": [
    "# Show a feature with a depth of 2\n",
    "features['LAST(loans.MEAN(payments.payment_amount))'].head(10)"
   ]
  },
  {
   "cell_type": "markdown",
   "metadata": {
    "colab_type": "text",
    "id": "wyxx5JFph2S8"
   },
   "source": [
    "We can create features of arbitrary depth by stacking more primitives. However, when I have used feature tools I've never gone beyond a depth of 2! After this point, the features become very convoluted to understand. I'd encourage anyone interested to experiment with increasing the depth (maybe for a real problem) and see if there is value to \"going deeper\".\n",
    "\n",
    "## Automated Deep Feature Synthesis\n",
    "\n",
    "The main benefit of using feature tools comes not in specifying aggregations and transformations by hand, but by letting feature tools automatically generate many new features. We can do this by making the same `ft.dfs` function call, but without passing in any primitives. We can just set the `max_depth` parameter and feature tools will automatically try out all combinations of feature primitives to the ordered depth. \n",
    "\n",
    "When running on large datasets, this process can take quite a while, but for our example data, it will be relatively quick. For this call, we only need to specify the `entityset`, the `target_entity` (which will again be `clients`), and the `max_depth`. "
   ]
  },
  {
   "cell_type": "code",
   "execution_count": 24,
   "metadata": {
    "colab": {
     "autoexec": {
      "startup": false,
      "wait_interval": 0
     }
    },
    "colab_type": "code",
    "id": "iKQx-y2mgv_x"
   },
   "outputs": [],
   "source": [
    "# Perform deep feature synthesis without specifying primitives\n",
    "features, feature_names = ft.dfs(entityset=es, target_entity='clients', \n",
    "                                 max_depth = 2)"
   ]
  },
  {
   "cell_type": "code",
   "execution_count": 25,
   "metadata": {
    "colab": {
     "autoexec": {
      "startup": false,
      "wait_interval": 0
     }
    },
    "colab_type": "code",
    "id": "H-CsAUe6jS0F"
   },
   "outputs": [
    {
     "data": {
      "text/html": [
       "<div>\n",
       "<style scoped>\n",
       "    .dataframe tbody tr th:only-of-type {\n",
       "        vertical-align: middle;\n",
       "    }\n",
       "\n",
       "    .dataframe tbody tr th {\n",
       "        vertical-align: top;\n",
       "    }\n",
       "\n",
       "    .dataframe thead th {\n",
       "        text-align: right;\n",
       "    }\n",
       "</style>\n",
       "<table border=\"1\" class=\"dataframe\">\n",
       "  <thead>\n",
       "    <tr style=\"text-align: right;\">\n",
       "      <th></th>\n",
       "      <th>income</th>\n",
       "      <th>credit_score</th>\n",
       "      <th>join_month</th>\n",
       "      <th>log_income</th>\n",
       "      <th>SUM(loans.loan_amount)</th>\n",
       "      <th>SUM(loans.rate)</th>\n",
       "      <th>STD(loans.loan_amount)</th>\n",
       "      <th>STD(loans.rate)</th>\n",
       "      <th>MAX(loans.loan_amount)</th>\n",
       "      <th>MAX(loans.rate)</th>\n",
       "      <th>...</th>\n",
       "      <th>NUM_UNIQUE(loans.WEEKDAY(loan_end))</th>\n",
       "      <th>MODE(loans.MODE(payments.missed))</th>\n",
       "      <th>MODE(loans.DAY(loan_start))</th>\n",
       "      <th>MODE(loans.DAY(loan_end))</th>\n",
       "      <th>MODE(loans.YEAR(loan_start))</th>\n",
       "      <th>MODE(loans.YEAR(loan_end))</th>\n",
       "      <th>MODE(loans.MONTH(loan_start))</th>\n",
       "      <th>MODE(loans.MONTH(loan_end))</th>\n",
       "      <th>MODE(loans.WEEKDAY(loan_start))</th>\n",
       "      <th>MODE(loans.WEEKDAY(loan_end))</th>\n",
       "    </tr>\n",
       "    <tr>\n",
       "      <th>client_id</th>\n",
       "      <th></th>\n",
       "      <th></th>\n",
       "      <th></th>\n",
       "      <th></th>\n",
       "      <th></th>\n",
       "      <th></th>\n",
       "      <th></th>\n",
       "      <th></th>\n",
       "      <th></th>\n",
       "      <th></th>\n",
       "      <th></th>\n",
       "      <th></th>\n",
       "      <th></th>\n",
       "      <th></th>\n",
       "      <th></th>\n",
       "      <th></th>\n",
       "      <th></th>\n",
       "      <th></th>\n",
       "      <th></th>\n",
       "      <th></th>\n",
       "      <th></th>\n",
       "    </tr>\n",
       "  </thead>\n",
       "  <tbody>\n",
       "    <tr>\n",
       "      <th>25707</th>\n",
       "      <td>211422</td>\n",
       "      <td>621</td>\n",
       "      <td>10</td>\n",
       "      <td>12.261611</td>\n",
       "      <td>159279</td>\n",
       "      <td>69.54</td>\n",
       "      <td>4044.418728</td>\n",
       "      <td>2.421285</td>\n",
       "      <td>13913</td>\n",
       "      <td>9.44</td>\n",
       "      <td>...</td>\n",
       "      <td>6</td>\n",
       "      <td>0</td>\n",
       "      <td>27</td>\n",
       "      <td>1</td>\n",
       "      <td>2010</td>\n",
       "      <td>2007</td>\n",
       "      <td>1</td>\n",
       "      <td>8</td>\n",
       "      <td>3</td>\n",
       "      <td>0</td>\n",
       "    </tr>\n",
       "    <tr>\n",
       "      <th>26326</th>\n",
       "      <td>227920</td>\n",
       "      <td>633</td>\n",
       "      <td>5</td>\n",
       "      <td>12.336750</td>\n",
       "      <td>116321</td>\n",
       "      <td>40.28</td>\n",
       "      <td>4254.149422</td>\n",
       "      <td>1.991819</td>\n",
       "      <td>13464</td>\n",
       "      <td>6.73</td>\n",
       "      <td>...</td>\n",
       "      <td>5</td>\n",
       "      <td>0</td>\n",
       "      <td>6</td>\n",
       "      <td>6</td>\n",
       "      <td>2003</td>\n",
       "      <td>2005</td>\n",
       "      <td>4</td>\n",
       "      <td>7</td>\n",
       "      <td>5</td>\n",
       "      <td>2</td>\n",
       "    </tr>\n",
       "    <tr>\n",
       "      <th>26695</th>\n",
       "      <td>174532</td>\n",
       "      <td>680</td>\n",
       "      <td>8</td>\n",
       "      <td>12.069863</td>\n",
       "      <td>140845</td>\n",
       "      <td>44.39</td>\n",
       "      <td>4078.228493</td>\n",
       "      <td>1.517660</td>\n",
       "      <td>14865</td>\n",
       "      <td>6.51</td>\n",
       "      <td>...</td>\n",
       "      <td>6</td>\n",
       "      <td>0</td>\n",
       "      <td>3</td>\n",
       "      <td>14</td>\n",
       "      <td>2003</td>\n",
       "      <td>2005</td>\n",
       "      <td>9</td>\n",
       "      <td>4</td>\n",
       "      <td>1</td>\n",
       "      <td>1</td>\n",
       "    </tr>\n",
       "    <tr>\n",
       "      <th>26945</th>\n",
       "      <td>214516</td>\n",
       "      <td>806</td>\n",
       "      <td>11</td>\n",
       "      <td>12.276140</td>\n",
       "      <td>106889</td>\n",
       "      <td>42.83</td>\n",
       "      <td>4389.555657</td>\n",
       "      <td>1.564795</td>\n",
       "      <td>14593</td>\n",
       "      <td>5.65</td>\n",
       "      <td>...</td>\n",
       "      <td>6</td>\n",
       "      <td>0</td>\n",
       "      <td>16</td>\n",
       "      <td>1</td>\n",
       "      <td>2002</td>\n",
       "      <td>2004</td>\n",
       "      <td>12</td>\n",
       "      <td>5</td>\n",
       "      <td>0</td>\n",
       "      <td>1</td>\n",
       "    </tr>\n",
       "    <tr>\n",
       "      <th>29841</th>\n",
       "      <td>38354</td>\n",
       "      <td>523</td>\n",
       "      <td>8</td>\n",
       "      <td>10.554614</td>\n",
       "      <td>176634</td>\n",
       "      <td>62.01</td>\n",
       "      <td>4090.630609</td>\n",
       "      <td>2.063092</td>\n",
       "      <td>14837</td>\n",
       "      <td>6.76</td>\n",
       "      <td>...</td>\n",
       "      <td>7</td>\n",
       "      <td>1</td>\n",
       "      <td>1</td>\n",
       "      <td>15</td>\n",
       "      <td>2005</td>\n",
       "      <td>2007</td>\n",
       "      <td>3</td>\n",
       "      <td>2</td>\n",
       "      <td>5</td>\n",
       "      <td>1</td>\n",
       "    </tr>\n",
       "  </tbody>\n",
       "</table>\n",
       "<p>5 rows × 94 columns</p>\n",
       "</div>"
      ],
      "text/plain": [
       "           income  credit_score  join_month  log_income  \\\n",
       "client_id                                                 \n",
       "25707      211422           621          10   12.261611   \n",
       "26326      227920           633           5   12.336750   \n",
       "26695      174532           680           8   12.069863   \n",
       "26945      214516           806          11   12.276140   \n",
       "29841       38354           523           8   10.554614   \n",
       "\n",
       "           SUM(loans.loan_amount)  SUM(loans.rate)  STD(loans.loan_amount)  \\\n",
       "client_id                                                                    \n",
       "25707                      159279            69.54             4044.418728   \n",
       "26326                      116321            40.28             4254.149422   \n",
       "26695                      140845            44.39             4078.228493   \n",
       "26945                      106889            42.83             4389.555657   \n",
       "29841                      176634            62.01             4090.630609   \n",
       "\n",
       "           STD(loans.rate)  MAX(loans.loan_amount)  MAX(loans.rate)  \\\n",
       "client_id                                                             \n",
       "25707             2.421285                   13913             9.44   \n",
       "26326             1.991819                   13464             6.73   \n",
       "26695             1.517660                   14865             6.51   \n",
       "26945             1.564795                   14593             5.65   \n",
       "29841             2.063092                   14837             6.76   \n",
       "\n",
       "                       ...               NUM_UNIQUE(loans.WEEKDAY(loan_end))  \\\n",
       "client_id              ...                                                     \n",
       "25707                  ...                                                 6   \n",
       "26326                  ...                                                 5   \n",
       "26695                  ...                                                 6   \n",
       "26945                  ...                                                 6   \n",
       "29841                  ...                                                 7   \n",
       "\n",
       "           MODE(loans.MODE(payments.missed))  MODE(loans.DAY(loan_start))  \\\n",
       "client_id                                                                   \n",
       "25707                                      0                           27   \n",
       "26326                                      0                            6   \n",
       "26695                                      0                            3   \n",
       "26945                                      0                           16   \n",
       "29841                                      1                            1   \n",
       "\n",
       "           MODE(loans.DAY(loan_end))  MODE(loans.YEAR(loan_start))  \\\n",
       "client_id                                                            \n",
       "25707                              1                          2010   \n",
       "26326                              6                          2003   \n",
       "26695                             14                          2003   \n",
       "26945                              1                          2002   \n",
       "29841                             15                          2005   \n",
       "\n",
       "           MODE(loans.YEAR(loan_end))  MODE(loans.MONTH(loan_start))  \\\n",
       "client_id                                                              \n",
       "25707                            2007                              1   \n",
       "26326                            2005                              4   \n",
       "26695                            2005                              9   \n",
       "26945                            2004                             12   \n",
       "29841                            2007                              3   \n",
       "\n",
       "           MODE(loans.MONTH(loan_end))  MODE(loans.WEEKDAY(loan_start))  \\\n",
       "client_id                                                                 \n",
       "25707                                8                                3   \n",
       "26326                                7                                5   \n",
       "26695                                4                                1   \n",
       "26945                                5                                0   \n",
       "29841                                2                                5   \n",
       "\n",
       "          MODE(loans.WEEKDAY(loan_end))  \n",
       "client_id                                \n",
       "25707                                 0  \n",
       "26326                                 2  \n",
       "26695                                 1  \n",
       "26945                                 1  \n",
       "29841                                 1  \n",
       "\n",
       "[5 rows x 94 columns]"
      ]
     },
     "execution_count": 25,
     "metadata": {},
     "output_type": "execute_result"
    }
   ],
   "source": [
    "features.head()"
   ]
  },
  {
   "cell_type": "markdown",
   "metadata": {
    "colab_type": "text",
    "id": "s3cOoBMakhx8"
   },
   "source": [
    "Deep feature synthesis has created 94 new features out of the existing data! While we could have created all of these manually, I am glad to not have to write all that code by hand. The primary benefit of feature tools is that it creates features without any subjective human biases. Even a human with considerable domain knowledge will be limited by their imagination when making new features (not to mention time). Automated feature engineering is not limited by any factors and provides a good starting point for feature creation. \n",
    "\n",
    "While, automatic feature engineering solves one problem, it provides us with another problem: too many features! Although it's impossible to say which features will be important to a given machine learning task, it's likely that not all of the features made by feature tools add value. In fact, having too many features is a significant issue in machine learning because it makes training a model much harder. The irrelevant features can drown out the important features leaving a model unable to learn how to map the features to the target. This problem is known as the \"curse of dimensionality\" and is addressed through the process of feature reduction, which means removing low-value features from the data. Feature reduction will have to be another topic for another day!"
   ]
  },
  {
   "cell_type": "code",
   "execution_count": 26,
   "metadata": {
    "colab": {
     "autoexec": {
      "startup": false,
      "wait_interval": 0
     }
    },
    "colab_type": "code",
    "id": "OjGvcmSNjUFF"
   },
   "outputs": [
    {
     "data": {
      "text/plain": [
       "(25, 94)"
      ]
     },
     "execution_count": 26,
     "metadata": {},
     "output_type": "execute_result"
    }
   ],
   "source": [
    "features.shape"
   ]
  },
  {
   "cell_type": "markdown",
   "metadata": {
    "colab_type": "text",
    "id": "jbjt01ADmEdX"
   },
   "source": [
    "# Conclusions\n",
    "\n",
    "In this notebook, we saw how to apply automated feature engineering to an example dataset. This is a powerful method which allows us to overcome the human limits of time and imagination to create many new features. Feature tools is built on the idea of deep feature synthesis, which means stacking multiple simple feature primitives - aggregations and transformations - to create new features. Feature engineering allows us to combine information across many tables into a single dataframe that we can then use for machine learning model training. The next step after creating all of these features is figuring out which ones are important. \n",
    "\n",
    "Feature tools is currently the only Python option for this process, but with the recent emphasis on automating aspects of the machine learning pipeline, other competitiors will probably enter the sphere. While the exact tools will change, the idea of automatically creating new features out of existing data will grow in importance. Staying up-to-date on methods such as automated feature engineering is crucial in the rapidly changing field of data science. Now go out there and find a problem on which to apply feature tools! "
   ]
  }
 ],
 "metadata": {
  "colab": {
   "default_view": {},
   "name": "Automated Feature Engineering.ipynb",
   "private_outputs": true,
   "provenance": [],
   "version": "0.3.2",
   "views": {}
  },
  "kernelspec": {
   "display_name": "Python 3",
   "language": "python",
   "name": "python3"
  },
  "language_info": {
   "codemirror_mode": {
    "name": "ipython",
    "version": 3
   },
   "file_extension": ".py",
   "mimetype": "text/x-python",
   "name": "python",
   "nbconvert_exporter": "python",
   "pygments_lexer": "ipython3",
   "version": "3.6.4"
  }
 },
 "nbformat": 4,
 "nbformat_minor": 1
}
