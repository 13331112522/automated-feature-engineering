{
 "cells": [
  {
   "cell_type": "markdown",
   "metadata": {
    "colab_type": "text",
    "id": "MockJ-NBFvgv"
   },
   "source": [
    "# Introduction: Automated Feature Engineering\n",
    "\n",
    "In this notebook, we will look at an exciting development in data science: automated feature engineering. A machine learning model can only learn from the data we give it, and making sure that data is relevant to the task is one of the most crucial steps in the machine learning pipeline. The importance of creating useful features from existing data has been highlighted by numerous leaders in the field, including Andrew Ng (\"applied machine learning is basically feature engineering\") and in the excellent paper \"A Few Useful Things to Know about Machine Learning\". However, manual feature engineering is a tedious task and is limited by both human imagination - there are only so many features we can think to create - and by time - creating new features is time-intensive. Ideally, there would be an objective method to create an array of diverse new features that we can then use for a machine learning task. \n",
    "\n",
    "In this notebook, we will walk through an implementation of using Feature Tools, an open-source Python library for automatically creating features with relational data (where the data is in structured tables). Although there are now many efforts working to enable automated model selection and hyperparameter tuning, there has been a lack of work on the feature engineering aspect of the pipeline. This library seeks to close that gap and the general methodology has been proven effective in both machine learning competitions and business use cases. \n",
    "\n",
    "\n",
    "## Dataset\n",
    "\n",
    "We will use an example dataset consisting of three tables:\n",
    "\n",
    "* `clients`: information about clients at a credit union\n",
    "* `loans`: previous loans taken out by the clients\n",
    "* `payments`: payments made/missed on the previous loans\n",
    "\n",
    "The general problem of feature engineering is taking disparate data, often distributed across multiple tables, and combining it into a single table that can be used for training a machine learning model. If we were doing this manually, we could use `pandas` functions to group the data by client and then calculate summary statistics. Feature tools can do this exact same process, but will create far more features than we would have considered.\n",
    "\n",
    "First, let's load in the data and look at how we might create new features by hand to contrast with feature tools."
   ]
  },
  {
   "cell_type": "code",
   "execution_count": 0,
   "metadata": {
    "colab": {
     "autoexec": {
      "startup": false,
      "wait_interval": 0
     }
    },
    "colab_type": "code",
    "id": "4zDxrOS8F_t0"
   },
   "outputs": [],
   "source": [
    "# Run this if feature tools is not already installed\n",
    "# !pip install featuretools"
   ]
  },
  {
   "cell_type": "code",
   "execution_count": 1,
   "metadata": {
    "colab": {
     "autoexec": {
      "startup": false,
      "wait_interval": 0
     }
    },
    "colab_type": "code",
    "id": "Og7QpzFkFrf9"
   },
   "outputs": [],
   "source": [
    "# pandas and numpy for data manipulation\n",
    "import pandas as pd\n",
    "import numpy as np\n",
    "\n",
    "# featuretools for automated feature engineering\n",
    "import featuretools as ft"
   ]
  },
  {
   "cell_type": "code",
   "execution_count": 5,
   "metadata": {
    "colab": {
     "autoexec": {
      "startup": false,
      "wait_interval": 0
     }
    },
    "colab_type": "code",
    "id": "BGkrloKKGbD2"
   },
   "outputs": [],
   "source": [
    "# Read in the data\n",
    "clients = pd.read_csv('data/clients.csv', parse_dates = ['joined'])\n",
    "loans = pd.read_csv('data/loans.csv', parse_dates = ['loan_start', 'loan_end'])\n",
    "payments = pd.read_csv('data/payments.csv', parse_dates = ['payment_date'])"
   ]
  },
  {
   "cell_type": "code",
   "execution_count": 6,
   "metadata": {
    "colab": {
     "autoexec": {
      "startup": false,
      "wait_interval": 0
     }
    },
    "colab_type": "code",
    "id": "08ST5lOrrTxg"
   },
   "outputs": [
    {
     "data": {
      "text/html": [
       "<div>\n",
       "<style scoped>\n",
       "    .dataframe tbody tr th:only-of-type {\n",
       "        vertical-align: middle;\n",
       "    }\n",
       "\n",
       "    .dataframe tbody tr th {\n",
       "        vertical-align: top;\n",
       "    }\n",
       "\n",
       "    .dataframe thead th {\n",
       "        text-align: right;\n",
       "    }\n",
       "</style>\n",
       "<table border=\"1\" class=\"dataframe\">\n",
       "  <thead>\n",
       "    <tr style=\"text-align: right;\">\n",
       "      <th></th>\n",
       "      <th>client_id</th>\n",
       "      <th>joined</th>\n",
       "      <th>income</th>\n",
       "      <th>credit_score</th>\n",
       "    </tr>\n",
       "  </thead>\n",
       "  <tbody>\n",
       "    <tr>\n",
       "      <th>0</th>\n",
       "      <td>46109</td>\n",
       "      <td>2002-04-16</td>\n",
       "      <td>172677</td>\n",
       "      <td>527</td>\n",
       "    </tr>\n",
       "    <tr>\n",
       "      <th>1</th>\n",
       "      <td>49545</td>\n",
       "      <td>2007-11-14</td>\n",
       "      <td>104564</td>\n",
       "      <td>770</td>\n",
       "    </tr>\n",
       "    <tr>\n",
       "      <th>2</th>\n",
       "      <td>41480</td>\n",
       "      <td>2013-03-11</td>\n",
       "      <td>122607</td>\n",
       "      <td>585</td>\n",
       "    </tr>\n",
       "    <tr>\n",
       "      <th>3</th>\n",
       "      <td>46180</td>\n",
       "      <td>2001-11-06</td>\n",
       "      <td>43851</td>\n",
       "      <td>562</td>\n",
       "    </tr>\n",
       "    <tr>\n",
       "      <th>4</th>\n",
       "      <td>25707</td>\n",
       "      <td>2006-10-06</td>\n",
       "      <td>211422</td>\n",
       "      <td>621</td>\n",
       "    </tr>\n",
       "  </tbody>\n",
       "</table>\n",
       "</div>"
      ],
      "text/plain": [
       "   client_id     joined  income  credit_score\n",
       "0      46109 2002-04-16  172677           527\n",
       "1      49545 2007-11-14  104564           770\n",
       "2      41480 2013-03-11  122607           585\n",
       "3      46180 2001-11-06   43851           562\n",
       "4      25707 2006-10-06  211422           621"
      ]
     },
     "execution_count": 6,
     "metadata": {},
     "output_type": "execute_result"
    }
   ],
   "source": [
    "clients.head()"
   ]
  },
  {
   "cell_type": "code",
   "execution_count": 9,
   "metadata": {
    "colab": {
     "autoexec": {
      "startup": false,
      "wait_interval": 0
     }
    },
    "colab_type": "code",
    "id": "S6TXsCZW3Rau"
   },
   "outputs": [
    {
     "data": {
      "text/html": [
       "<div>\n",
       "<style scoped>\n",
       "    .dataframe tbody tr th:only-of-type {\n",
       "        vertical-align: middle;\n",
       "    }\n",
       "\n",
       "    .dataframe tbody tr th {\n",
       "        vertical-align: top;\n",
       "    }\n",
       "\n",
       "    .dataframe thead th {\n",
       "        text-align: right;\n",
       "    }\n",
       "</style>\n",
       "<table border=\"1\" class=\"dataframe\">\n",
       "  <thead>\n",
       "    <tr style=\"text-align: right;\">\n",
       "      <th></th>\n",
       "      <th>client_id</th>\n",
       "      <th>loan_type</th>\n",
       "      <th>loan_amount</th>\n",
       "      <th>repaid</th>\n",
       "      <th>loan_id</th>\n",
       "      <th>loan_start</th>\n",
       "      <th>loan_end</th>\n",
       "      <th>rate</th>\n",
       "    </tr>\n",
       "  </thead>\n",
       "  <tbody>\n",
       "    <tr>\n",
       "      <th>318</th>\n",
       "      <td>44387</td>\n",
       "      <td>home</td>\n",
       "      <td>12465</td>\n",
       "      <td>0</td>\n",
       "      <td>10682</td>\n",
       "      <td>2005-03-03</td>\n",
       "      <td>2007-06-01</td>\n",
       "      <td>2.91</td>\n",
       "    </tr>\n",
       "    <tr>\n",
       "      <th>294</th>\n",
       "      <td>32885</td>\n",
       "      <td>home</td>\n",
       "      <td>14162</td>\n",
       "      <td>1</td>\n",
       "      <td>11333</td>\n",
       "      <td>2000-08-05</td>\n",
       "      <td>2002-06-01</td>\n",
       "      <td>7.21</td>\n",
       "    </tr>\n",
       "    <tr>\n",
       "      <th>258</th>\n",
       "      <td>29841</td>\n",
       "      <td>credit</td>\n",
       "      <td>14721</td>\n",
       "      <td>0</td>\n",
       "      <td>11045</td>\n",
       "      <td>2005-02-09</td>\n",
       "      <td>2007-06-09</td>\n",
       "      <td>6.76</td>\n",
       "    </tr>\n",
       "    <tr>\n",
       "      <th>351</th>\n",
       "      <td>26695</td>\n",
       "      <td>home</td>\n",
       "      <td>9808</td>\n",
       "      <td>1</td>\n",
       "      <td>10806</td>\n",
       "      <td>2000-07-27</td>\n",
       "      <td>2003-04-18</td>\n",
       "      <td>1.23</td>\n",
       "    </tr>\n",
       "    <tr>\n",
       "      <th>205</th>\n",
       "      <td>26326</td>\n",
       "      <td>home</td>\n",
       "      <td>12760</td>\n",
       "      <td>0</td>\n",
       "      <td>11708</td>\n",
       "      <td>2003-12-11</td>\n",
       "      <td>2006-04-13</td>\n",
       "      <td>5.43</td>\n",
       "    </tr>\n",
       "    <tr>\n",
       "      <th>321</th>\n",
       "      <td>44387</td>\n",
       "      <td>cash</td>\n",
       "      <td>2559</td>\n",
       "      <td>0</td>\n",
       "      <td>10690</td>\n",
       "      <td>2014-02-24</td>\n",
       "      <td>2016-06-11</td>\n",
       "      <td>3.27</td>\n",
       "    </tr>\n",
       "    <tr>\n",
       "      <th>277</th>\n",
       "      <td>44601</td>\n",
       "      <td>home</td>\n",
       "      <td>12571</td>\n",
       "      <td>1</td>\n",
       "      <td>10429</td>\n",
       "      <td>2003-04-15</td>\n",
       "      <td>2005-07-05</td>\n",
       "      <td>6.57</td>\n",
       "    </tr>\n",
       "    <tr>\n",
       "      <th>299</th>\n",
       "      <td>49068</td>\n",
       "      <td>other</td>\n",
       "      <td>10082</td>\n",
       "      <td>1</td>\n",
       "      <td>10131</td>\n",
       "      <td>2014-10-10</td>\n",
       "      <td>2016-05-25</td>\n",
       "      <td>0.63</td>\n",
       "    </tr>\n",
       "    <tr>\n",
       "      <th>27</th>\n",
       "      <td>49545</td>\n",
       "      <td>credit</td>\n",
       "      <td>4458</td>\n",
       "      <td>1</td>\n",
       "      <td>10192</td>\n",
       "      <td>2013-02-11</td>\n",
       "      <td>2014-09-11</td>\n",
       "      <td>3.60</td>\n",
       "    </tr>\n",
       "    <tr>\n",
       "      <th>366</th>\n",
       "      <td>26695</td>\n",
       "      <td>credit</td>\n",
       "      <td>4776</td>\n",
       "      <td>1</td>\n",
       "      <td>10305</td>\n",
       "      <td>2003-09-16</td>\n",
       "      <td>2005-09-20</td>\n",
       "      <td>0.97</td>\n",
       "    </tr>\n",
       "  </tbody>\n",
       "</table>\n",
       "</div>"
      ],
      "text/plain": [
       "     client_id loan_type  loan_amount  repaid  loan_id loan_start   loan_end  \\\n",
       "318      44387      home        12465       0    10682 2005-03-03 2007-06-01   \n",
       "294      32885      home        14162       1    11333 2000-08-05 2002-06-01   \n",
       "258      29841    credit        14721       0    11045 2005-02-09 2007-06-09   \n",
       "351      26695      home         9808       1    10806 2000-07-27 2003-04-18   \n",
       "205      26326      home        12760       0    11708 2003-12-11 2006-04-13   \n",
       "321      44387      cash         2559       0    10690 2014-02-24 2016-06-11   \n",
       "277      44601      home        12571       1    10429 2003-04-15 2005-07-05   \n",
       "299      49068     other        10082       1    10131 2014-10-10 2016-05-25   \n",
       "27       49545    credit         4458       1    10192 2013-02-11 2014-09-11   \n",
       "366      26695    credit         4776       1    10305 2003-09-16 2005-09-20   \n",
       "\n",
       "     rate  \n",
       "318  2.91  \n",
       "294  7.21  \n",
       "258  6.76  \n",
       "351  1.23  \n",
       "205  5.43  \n",
       "321  3.27  \n",
       "277  6.57  \n",
       "299  0.63  \n",
       "27   3.60  \n",
       "366  0.97  "
      ]
     },
     "execution_count": 9,
     "metadata": {},
     "output_type": "execute_result"
    }
   ],
   "source": [
    "loans.sample(10)"
   ]
  },
  {
   "cell_type": "code",
   "execution_count": 8,
   "metadata": {
    "colab": {
     "autoexec": {
      "startup": false,
      "wait_interval": 0
     }
    },
    "colab_type": "code",
    "id": "uIOMlPAD3TfZ"
   },
   "outputs": [
    {
     "data": {
      "text/html": [
       "<div>\n",
       "<style scoped>\n",
       "    .dataframe tbody tr th:only-of-type {\n",
       "        vertical-align: middle;\n",
       "    }\n",
       "\n",
       "    .dataframe tbody tr th {\n",
       "        vertical-align: top;\n",
       "    }\n",
       "\n",
       "    .dataframe thead th {\n",
       "        text-align: right;\n",
       "    }\n",
       "</style>\n",
       "<table border=\"1\" class=\"dataframe\">\n",
       "  <thead>\n",
       "    <tr style=\"text-align: right;\">\n",
       "      <th></th>\n",
       "      <th>loan_id</th>\n",
       "      <th>payment_amount</th>\n",
       "      <th>payment_date</th>\n",
       "      <th>missed</th>\n",
       "    </tr>\n",
       "  </thead>\n",
       "  <tbody>\n",
       "    <tr>\n",
       "      <th>0</th>\n",
       "      <td>10243</td>\n",
       "      <td>2369</td>\n",
       "      <td>2002-05-31</td>\n",
       "      <td>1</td>\n",
       "    </tr>\n",
       "    <tr>\n",
       "      <th>1</th>\n",
       "      <td>10243</td>\n",
       "      <td>2439</td>\n",
       "      <td>2002-06-18</td>\n",
       "      <td>1</td>\n",
       "    </tr>\n",
       "    <tr>\n",
       "      <th>2</th>\n",
       "      <td>10243</td>\n",
       "      <td>2662</td>\n",
       "      <td>2002-06-29</td>\n",
       "      <td>0</td>\n",
       "    </tr>\n",
       "    <tr>\n",
       "      <th>3</th>\n",
       "      <td>10243</td>\n",
       "      <td>2268</td>\n",
       "      <td>2002-07-20</td>\n",
       "      <td>0</td>\n",
       "    </tr>\n",
       "    <tr>\n",
       "      <th>4</th>\n",
       "      <td>10243</td>\n",
       "      <td>2027</td>\n",
       "      <td>2002-07-31</td>\n",
       "      <td>1</td>\n",
       "    </tr>\n",
       "  </tbody>\n",
       "</table>\n",
       "</div>"
      ],
      "text/plain": [
       "   loan_id  payment_amount payment_date  missed\n",
       "0    10243            2369   2002-05-31       1\n",
       "1    10243            2439   2002-06-18       1\n",
       "2    10243            2662   2002-06-29       0\n",
       "3    10243            2268   2002-07-20       0\n",
       "4    10243            2027   2002-07-31       1"
      ]
     },
     "execution_count": 8,
     "metadata": {},
     "output_type": "execute_result"
    }
   ],
   "source": [
    "payments.head()"
   ]
  },
  {
   "cell_type": "markdown",
   "metadata": {
    "colab_type": "text",
    "id": "AvmwEpIbrQIW"
   },
   "source": [
    "### Manual Feature Engineering Examples\n",
    "\n",
    "The first features we might make by hand are relatively simple: we can take the month of the `joined` column and the natural log of the `income` column. Later, we will come to see these are known in Feature Tools as transformation feature primitives because they act on all values in a column. "
   ]
  },
  {
   "cell_type": "code",
   "execution_count": 0,
   "metadata": {
    "colab": {
     "autoexec": {
      "startup": false,
      "wait_interval": 0
     }
    },
    "colab_type": "code",
    "id": "PRTEs9XSUz94"
   },
   "outputs": [],
   "source": [
    "# Create a month column\n",
    "clients['month'] = clients['time_started'].dt.month\n",
    "\n",
    "# Create a log of income column\n",
    "clients['log_income'] = np.log(clients['income'])\n",
    "\n",
    "clients.head()"
   ]
  },
  {
   "cell_type": "markdown",
   "metadata": {
    "colab_type": "text",
    "id": "reiPaTnVs2Yk"
   },
   "source": [
    "To incorporate information about the other tables, we would use the `df.groupby` method, followed by a suitable aggregation function, followed by `df.merge`.  For example, let's calculate the average, minimum, and maximum amount of previous loans for each client. In the terms of feature tools, this would be considered an aggregation feature primitive because we are aggregating a statistic for multiple data points."
   ]
  },
  {
   "cell_type": "code",
   "execution_count": 0,
   "metadata": {
    "colab": {
     "autoexec": {
      "startup": false,
      "wait_interval": 0
     }
    },
    "colab_type": "code",
    "id": "rLOJHXqOs2GD"
   },
   "outputs": [],
   "source": [
    "# Groupby client id and calculate mean, max, min previous loan size\n",
    "previous_stats = previous_loans.groupby('client_id')['loan_amount'].agg(['mean', 'max', 'min'])\n",
    "previous_stats.head()"
   ]
  },
  {
   "cell_type": "code",
   "execution_count": 0,
   "metadata": {
    "colab": {
     "autoexec": {
      "startup": false,
      "wait_interval": 0
     }
    },
    "colab_type": "code",
    "id": "Kf63VwWytmm8"
   },
   "outputs": [],
   "source": [
    "# Merge with the clients dataframe\n",
    "clients.merge(previous_stats, left_on = 'client_id', right_index=True, how = 'left')"
   ]
  },
  {
   "cell_type": "markdown",
   "metadata": {
    "colab_type": "text",
    "id": "0aVnENNBt6pN"
   },
   "source": [
    "If we then wanted to include information about the `previous_payments` we would have to group that dataframe by the `loan_id`, merge it with the `previous_loans`, group the resulting dataframe by the `client_id`, and then merge it into the `clients` dataframe. This would allow us to include information about previous payments for each client. Clearly, this process can grow quite tedious with multiple tables and I certainly don't want to have to do this process by hand! Luckily, feature tools can automatically carry out this entire process and will create more features than we would have ever thought of. Although I love `pandas`, there is only so much manual data manipulation I'm willing to stand! "
   ]
  },
  {
   "cell_type": "markdown",
   "metadata": {
    "colab_type": "text",
    "id": "UWAPnDJruqNs"
   },
   "source": [
    "# Feature Tools\n",
    "\n",
    "Now that we know what we are trying to avoid, let's figure out how to automate this process. Feature tools takes the human limits of time and imagination out of the manual feature engineering process (although it is meant to be used together with a data scientist and not replace them!) Feature tools operates on an idea known as Deep Feature Synthesis. You can read the original paper here, and although it's quite readable, it's not necessary to understand the details to do automated feature engineering. Basically, feature tools uses basic building blocks known as feature primitives (like those above) that when combined together can yield multiple new variables. These variables can then be used for supervised machine learning. \n",
    "\n",
    "I threw out some terms there, but don't worry because we'll cover them as we go. Feature Tools builds on simple ideas to create a powerful method, and we will build up our understanding in much the same way. \n",
    "\n",
    "The first part of Feature Tools to understand is an `entity`. This is simply a table, or in `pandas`, a `DataFrame`. We corral multiple entities into a single object called an `EntitySet`. This is a data structure composed of many entities and is quite useful for Deep Feature Synthesis. The `EntitySet` will hold all of our entities (think tables) and the relationships between them. \n",
    "\n",
    "## EntitySet\n",
    "\n",
    "Creating a new `EntitySet` is pretty simple: "
   ]
  },
  {
   "cell_type": "code",
   "execution_count": 0,
   "metadata": {
    "colab": {
     "autoexec": {
      "startup": false,
      "wait_interval": 0
     }
    },
    "colab_type": "code",
    "id": "XTwph48RGr9Q"
   },
   "outputs": [],
   "source": [
    "es = ft.EntitySet(id = 'clients')"
   ]
  },
  {
   "cell_type": "markdown",
   "metadata": {
    "colab_type": "text",
    "id": "pHJSYZU1Vro7"
   },
   "source": [
    "## Entities \n",
    "\n",
    "An entity is simply a table, which is represented in Pandas as a `dataframe`. Each entity must have a uniquely identifying column, known as an index. For the clients dataframe, this is the `client_id` because each id only appears once in the data. In the `previous_loans` dataframe, `client_id` is not an index because each id might appear more than once. The index for this dataframe is instead `loan_id`. When we create an `entity` in feature tools, we have to identify which column of the dataframe is the index. \n",
    "\n",
    "If the data does not have a unique index we can tell feature tools to make an index for the entity by passing in `make_index = True` and specifying a name for the index. \n",
    "\n",
    "If the data also has a uniquely identifying time index, we can pass that in as the `time_index` parameter. Feature tools will automatically infer the variable types (numeric, categorical, datetime) of the columns in our data, but we can also pass in specific datatypes to override this behavior. As an example, even though the `repaid` column in the `previous_loans` dataframe is represented as an integer, we can tell feature tools that this is a categorical feature since it can only take on two discrete values. \n",
    "\n",
    "In the code below we create the three entities and add them to the `EntitySet`.  The syntax is relatively straightforward with a few notes: for the `previous_payments` dataframe we need to make an index, and for the `previous_loans` dataframe, we specify that `repaid` is a categorical variable. "
   ]
  },
  {
   "cell_type": "code",
   "execution_count": 0,
   "metadata": {
    "colab": {
     "autoexec": {
      "startup": false,
      "wait_interval": 0
     }
    },
    "colab_type": "code",
    "id": "iWORNI1MGwYQ"
   },
   "outputs": [],
   "source": [
    "# Create an entity from the client dataframe\n",
    "# This dataframe already has an index and a time index\n",
    "es = es.entity_from_dataframe(entity_id = 'clients', dataframe = clients, \n",
    "                              index = 'client_id', time_index = 'time_started')"
   ]
  },
  {
   "cell_type": "code",
   "execution_count": 0,
   "metadata": {
    "colab": {
     "autoexec": {
      "startup": false,
      "wait_interval": 0
     }
    },
    "colab_type": "code",
    "id": "7_aDZl4IG98s"
   },
   "outputs": [],
   "source": [
    "# Create an entity from the previous_loans dataframe\n",
    "# This dataframe already has an index and a time index\n",
    "es = es.entity_from_dataframe(entity_id = 'previous_loans', dataframe = previous_loans, \n",
    "                              variable_types = {'repaid': ft.variable_types.Categorical},\n",
    "                              index = 'loan_id', time_index = 'loan_start')"
   ]
  },
  {
   "cell_type": "code",
   "execution_count": 0,
   "metadata": {
    "colab": {
     "autoexec": {
      "startup": false,
      "wait_interval": 0
     }
    },
    "colab_type": "code",
    "id": "8VAjTWWbSXmi"
   },
   "outputs": [],
   "source": [
    "# Create an entity from the previous_payments dataframe\n",
    "# This does not yet have a unique index\n",
    "es = es.entity_from_dataframe(entity_id = 'previous_payments', \n",
    "                              dataframe = previous_payments,\n",
    "                              variable_types = {'missed': ft.variable_types.Categorical},\n",
    "                              make_index = True,\n",
    "                              index = 'payment_id')"
   ]
  },
  {
   "cell_type": "code",
   "execution_count": 0,
   "metadata": {
    "colab": {
     "autoexec": {
      "startup": false,
      "wait_interval": 0
     }
    },
    "colab_type": "code",
    "id": "1EV_Zg7QSxTo"
   },
   "outputs": [],
   "source": [
    "es"
   ]
  },
  {
   "cell_type": "markdown",
   "metadata": {
    "colab_type": "text",
    "id": "xmQwcxRQXQAf"
   },
   "source": [
    "All three entities have been successfully added to the `EntitySet`. We can access any of these using Python dictionary syntax."
   ]
  },
  {
   "cell_type": "code",
   "execution_count": 0,
   "metadata": {
    "colab": {
     "autoexec": {
      "startup": false,
      "wait_interval": 0
     }
    },
    "colab_type": "code",
    "id": "7rFib_OrXZiN"
   },
   "outputs": [],
   "source": [
    "es['previous_loans']"
   ]
  },
  {
   "cell_type": "markdown",
   "metadata": {
    "colab_type": "text",
    "id": "sZJ-HlanXduM"
   },
   "source": [
    "Feature tools correctly inferred each of the datatypes when we made this entity. We can also see that we overrode the type for the `repaid` feature, changing if from numeric to categorical. "
   ]
  },
  {
   "cell_type": "markdown",
   "metadata": {
    "colab_type": "text",
    "id": "fhs4qoakVNyk"
   },
   "source": [
    "## Relationships\n",
    "\n",
    "After defining the entities (tables) in an `EntitySet`, we now need to tell feature tools how they are related. The most intuitive way to think of relationships is with the parent to child analogy: a parent-to-child relationship is one-to-many because for each parent, there can be multiple children. The `client` dataframe is therefore the parent of the `previous_loans` dataframe because while there is only one row for each client in the `client` dataframe, each client may have several previous loans covering multiple rows in the `previous_loans` dataframe. Likewise, the `previous_loans` dataframe is the parent of the `previous_payments` dataframe because each loan will have multiple payments. \n",
    "\n",
    "These relationships are what allow us to group together datapoints (called aggregating) and then create new features. As an example, we can group all of the previous loans associated with one client and find the average loan amount. We will discuss the features themselves more in a little bit, but for now let's define the relationships. To define relationships, we need to specify the parent variable and the child variable. This is the variable that links two entities together. In our example, the `client` and `previous_loans` dataframes are linked together by the `client_id` column. Again, this is a parent to child relationship because for each `client_id` in the parent `client` dataframe, there may be multiple entries of the same `client_id` in the child `previous_loans` dataframe. \n",
    "\n",
    "We codify relationships in the language of feature tools by specifying the parent variable and then the child variable. After creating a relationship, we add it to the `EntitySet`. "
   ]
  },
  {
   "cell_type": "code",
   "execution_count": 0,
   "metadata": {
    "colab": {
     "autoexec": {
      "startup": false,
      "wait_interval": 0
     }
    },
    "colab_type": "code",
    "id": "ChKZnFWTVJrh"
   },
   "outputs": [],
   "source": [
    "# Relationship between clients and previous loans\n",
    "r_client_previous = ft.Relationship(es['clients']['client_id'],\n",
    "                                    es['previous_loans']['client_id'])\n",
    "\n",
    "# Add the relationship to the entity set\n",
    "es = es.add_relationship(r_client_previous)\n",
    "\n",
    "es"
   ]
  },
  {
   "cell_type": "markdown",
   "metadata": {
    "colab_type": "text",
    "id": "DAPdMnwnZkHM"
   },
   "source": [
    "The relationship has now been stored in the entity set. The second relationship is between the `previous_loans` and `previous_payments`. These two entities are related by the `loan_id` variable."
   ]
  },
  {
   "cell_type": "code",
   "execution_count": 0,
   "metadata": {
    "colab": {
     "autoexec": {
      "startup": false,
      "wait_interval": 0
     }
    },
    "colab_type": "code",
    "id": "DrgSGOEDZe6N"
   },
   "outputs": [],
   "source": [
    "# Relationship between previous loans and previous payments\n",
    "r_previous_payments = ft.Relationship(es['previous_loans']['loan_id'],\n",
    "                                      es['previous_payments']['loan_id'])\n",
    "\n",
    "# Add the relationship to the entity set\n",
    "es = es.add_relationship(r_previous_payments)"
   ]
  },
  {
   "cell_type": "markdown",
   "metadata": {
    "colab_type": "text",
    "id": "oeFZMQVIaBV4"
   },
   "source": [
    "# Deep Feature Synthesis\n",
    "\n",
    "In the paper describing the original idea behind feature tools, the authors named the process of creating new features they developed \"Deep Feature Synthesis\". The deep in the title refers to the idea that features can have different depth depending on the number of feature primitives used. What is a feature primitive? Well, since you asked: \n",
    "\n",
    "\n",
    "## Feature Primitives\n",
    "\n",
    "A feature primitive is an operation acting on a feature. These fall into two categories:\n",
    "\n",
    "* __Aggregation__: function that groups together child datapoints for each parent and then calculates a statistic such as mean, min, max, or standard deviation. An example is calculating the maximum loan amount for each client. \n",
    "* __Transformation__: an operation applied to every observation in a feature. An example would be extracting the day from dates, or the square root of a numeric. In contrast to aggregations, a transformation does not group observations.\n",
    "\n",
    "\n",
    "Let's take a look at feature primitives in feature tools. We can view the list of primitives:"
   ]
  },
  {
   "cell_type": "code",
   "execution_count": 0,
   "metadata": {
    "colab": {
     "autoexec": {
      "startup": false,
      "wait_interval": 0
     }
    },
    "colab_type": "code",
    "id": "KNHzhu7WaALK"
   },
   "outputs": [],
   "source": [
    "primitives = ft.list_primitives()\n",
    "primitives[primitives['type'] == 'aggregation'].head(10)"
   ]
  },
  {
   "cell_type": "code",
   "execution_count": 0,
   "metadata": {
    "colab": {
     "autoexec": {
      "startup": false,
      "wait_interval": 0
     }
    },
    "colab_type": "code",
    "id": "-aDilk0Tdjml"
   },
   "outputs": [],
   "source": [
    "primitives[primitives['type'] == 'transform'].head(10)"
   ]
  },
  {
   "cell_type": "markdown",
   "metadata": {
    "colab_type": "text",
    "id": "QWMofjqMdur6"
   },
   "source": [
    "If feature tools does not have enough primitives for us, we can also make our own. \n",
    "\n",
    "To get an idea of what a feature primitive actually does, let's try out a few on our data. Using primitives is surprisingly easy using the `ft.dfs` function (which stands for deep feature synthesis). In this function, we specify the entityset to use; the `target_entity`, which is the dataframe we want to make the features for; the `agg_primitives` which are the aggregation feature primitives; and the `trans_primitives` which are the transformation primitives to apply. \n",
    "\n",
    "In the following example, we are using the `EntitySet` we already created, the target entity is the `clients` dataframe because we want to make new features about each client, and then we specify a few aggregation and transformation primitives. "
   ]
  },
  {
   "cell_type": "code",
   "execution_count": 0,
   "metadata": {
    "colab": {
     "autoexec": {
      "startup": false,
      "wait_interval": 0
     }
    },
    "colab_type": "code",
    "id": "GVK71fusd8uF"
   },
   "outputs": [],
   "source": [
    "# Create new features using specified primitives\n",
    "features, feature_names = ft.dfs(entityset = es, target_entity = 'clients', \n",
    "                                 agg_primitives = ['mean', 'max', 'percent_true', 'last'],\n",
    "                                 trans_primitives = ['years', 'subtract'])"
   ]
  },
  {
   "cell_type": "code",
   "execution_count": 0,
   "metadata": {
    "colab": {
     "autoexec": {
      "startup": false,
      "wait_interval": 0
     }
    },
    "colab_type": "code",
    "id": "2EFpoAJYezfD"
   },
   "outputs": [],
   "source": [
    "features.head()"
   ]
  },
  {
   "cell_type": "markdown",
   "metadata": {
    "colab_type": "text",
    "id": "C0kKwJHQfP9J"
   },
   "source": [
    "Already we can see how useful feature tools is: it performed the same operations we did manually but also many more in addition. Examining the dataframe brings us to the final piece of the puzzle: deep features.\n",
    "\n",
    "## Feature Depth\n",
    "\n",
    "While feature primitives are useful by themselves, the main benefit of using feature tools arises when we stack primitives to get deep features. The depth of a feature is simply the number of primitives required to make a feature. So, a feature that relies on a single aggregation would be a deep feature with a depth of 1. The idea itself is lot simpler than the name \"deep feature synthesis\" implies. (I think the authors were trying to ride the way of deep neural network hype when they named the method!)\n",
    "\n",
    "Already in the dataframe we made by specifying the primitives manually we can see the idea of feature depth. For instance, the MEAN(previous_loans.loan_amount) feature has a depth of 1 because it is made by applying a single aggregation primitive. This feature represents the average size of a client's previous loans.\n"
   ]
  },
  {
   "cell_type": "code",
   "execution_count": 0,
   "metadata": {
    "colab": {
     "autoexec": {
      "startup": false,
      "wait_interval": 0
     }
    },
    "colab_type": "code",
    "id": "HBHqFlqpgKD6"
   },
   "outputs": [],
   "source": [
    "# Show a feature with a depth of 1\n",
    "features['MEAN(previous_loans.loan_amount)']"
   ]
  },
  {
   "cell_type": "markdown",
   "metadata": {
    "colab_type": "text",
    "id": "b3FttmpFdDoo"
   },
   "source": [
    "As well scroll through the features, we see a number of features with a depth of 2. For example, the LAST(previous_loans.(MEAN(previous_payments.payment_amount))) has depth = 2 because it is made by stacking two feature primitives, first an aggregation and then a transformation. This feature represents the average payment amount for the last (most recent) loan for each client."
   ]
  },
  {
   "cell_type": "code",
   "execution_count": 0,
   "metadata": {
    "colab": {
     "autoexec": {
      "startup": false,
      "wait_interval": 0
     }
    },
    "colab_type": "code",
    "id": "xStafjwZgneQ"
   },
   "outputs": [],
   "source": [
    "# Show a feature with a depth of 2\n",
    "features['LAST(previous_loans.MEAN(previous_payments.payment_amount))']"
   ]
  },
  {
   "cell_type": "markdown",
   "metadata": {
    "colab_type": "text",
    "id": "wyxx5JFph2S8"
   },
   "source": [
    "We can create features of arbitrary depth by stacking more primitives. However, when I have used feature tools I've never gone beyond a depth of 2! After this point, the features become very convoluted to understand. I'd encourage anyone interested to experiment with increasing the depth (maybe for a real problem) and see if there is value to \"going deeper\".\n",
    "\n",
    "## Automated Deep Feature Synthesis\n",
    "\n",
    "The main benefit of using feature tools comes not in specifying aggregations and transformations by hand, but by letting feature tools automatically generate many new features. We can do this by making the same `ft.dfs` function call, but without passing in any primitives. We can just set the `max_depth` parameter and feature tools will automatically try out all combinations of feature primitives to the ordered depth. \n",
    "\n",
    "When running on large datasets, this process can take quite a while, but for our example data, it will be relatively quick. For this call, we only need to specify the `entityset`, the `target_entity` (which will again be `clients`), and the `max_depth`. "
   ]
  },
  {
   "cell_type": "code",
   "execution_count": 0,
   "metadata": {
    "colab": {
     "autoexec": {
      "startup": false,
      "wait_interval": 0
     }
    },
    "colab_type": "code",
    "id": "iKQx-y2mgv_x"
   },
   "outputs": [],
   "source": [
    "# Perform deep feature synthesis without specifying primitives\n",
    "features, feature_names = ft.dfs(entityset=es, target_entity='clients', \n",
    "                                 max_depth = 2)"
   ]
  },
  {
   "cell_type": "code",
   "execution_count": 0,
   "metadata": {
    "colab": {
     "autoexec": {
      "startup": false,
      "wait_interval": 0
     }
    },
    "colab_type": "code",
    "id": "H-CsAUe6jS0F"
   },
   "outputs": [],
   "source": [
    "features.head()"
   ]
  },
  {
   "cell_type": "markdown",
   "metadata": {
    "colab_type": "text",
    "id": "s3cOoBMakhx8"
   },
   "source": [
    "Deep feature synthesis has created 94 new features out of the existing data! While we could have created all of these manually, I am glad to not have to write all that code by hand. The primary benefit of feature tools is that it creates features without any subjective human biases. Even a human with considerable domain knowledge will be limited by their imagination when making new features (not to mention time). Automated feature engineering is not limited by any factors and provides a good starting point for feature creation. \n",
    "\n",
    "While, automatic feature engineering solves one problem, it provides us with another problem: too many features! Although it's impossible to say which features will be important to a given machine learning task, it's likely that not all of the features made by feature tools add value. In fact, having too many features is a significant issue in machine learning because it makes training a model much harder. The irrelevant features can drown out the important features leaving a model unable to learn how to map the features to the target. This problem is known as the \"curse of dimensionality\" and is addressed through the process of feature reduction, which means removing low-value features from the data. Feature reduction will have to be another topic for another day!"
   ]
  },
  {
   "cell_type": "code",
   "execution_count": 0,
   "metadata": {
    "colab": {
     "autoexec": {
      "startup": false,
      "wait_interval": 0
     }
    },
    "colab_type": "code",
    "id": "OjGvcmSNjUFF"
   },
   "outputs": [],
   "source": [
    "features.shape"
   ]
  },
  {
   "cell_type": "markdown",
   "metadata": {
    "colab_type": "text",
    "id": "jbjt01ADmEdX"
   },
   "source": [
    "# Conclusions\n",
    "\n",
    "In this notebook, we saw how to apply automated feature engineering to an example dataset. This is a powerful method which allows us to overcome the human limits of time and imagination to create many new features. Feature tools is built on the idea of deep feature synthesis, which means stacking multiple simple feature primitives - aggregations and transformations - to create new features. Feature engineering allows us to combine information across many tables into a single dataframe that we can then use for machine learning model training. The next step after creating all of these features is figuring out which ones are important. \n",
    "\n",
    "Feature tools is currently the only Python option for this process, but with the recent emphasis on automating aspects of the machine learning pipeline, other competitiors will probably enter the sphere. While the exact tools will change, the idea of automatically creating new features out of existing data will grow in importance. Staying up-to-date on methods such as automated feature engineering is crucial in the rapidly changing field of data science. Now go out there and find a problem on which to apply feature tools! "
   ]
  }
 ],
 "metadata": {
  "colab": {
   "default_view": {},
   "name": "Automated Feature Engineering.ipynb",
   "private_outputs": true,
   "provenance": [],
   "version": "0.3.2",
   "views": {}
  },
  "kernelspec": {
   "display_name": "Python 3",
   "language": "python",
   "name": "python3"
  },
  "language_info": {
   "codemirror_mode": {
    "name": "ipython",
    "version": 3
   },
   "file_extension": ".py",
   "mimetype": "text/x-python",
   "name": "python",
   "nbconvert_exporter": "python",
   "pygments_lexer": "ipython3",
   "version": "3.6.4"
  }
 },
 "nbformat": 4,
 "nbformat_minor": 1
}
